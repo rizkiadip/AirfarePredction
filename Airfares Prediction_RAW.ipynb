{
 "cells": [
  {
   "cell_type": "markdown",
   "metadata": {},
   "source": [
    "# __AIRFARE PREDICTION__\n",
    "\n",
    "Airplane is one of the favourite transportation options for some people, whether business purpose or vacation. Buying airplane tickets as preparation when traveling is a common activity to obtain the right airfare. However, the airfare is sometimes difficult to predict. Price with the same date and the same airline can have different price when we book today compared to tomorrow.\n",
    "\n",
    "As a Data Scientist, We can build a machine learning model as a solution. The model can help to calculate and to predict airfare as accurately as possible. Hopefully, this model can be useful for travelers when planning their budget. In addition, this model also can help airlines to determine new competitive prices."
   ]
  },
  {
   "cell_type": "markdown",
   "metadata": {},
   "source": [
    "# 1. Dataset Summary\n",
    "__Source Dataset__ : [link](https://www.kaggle.com/nikhilmittal/flight-fare-prediction-mh) \n",
    "\n",
    "This dataset provides flight tickets from various airlines in India. There are total 10683 rows and 11 features. Information of each feature will be explained below :\n",
    "- **Airline:** The name of the airline.\n",
    "- **Date_of_Journey:** The date of the journey\n",
    "- **Source:** The source from which the service begins.\n",
    "- **Destination:** The destination where the service ends.\n",
    "- **Route:** The route taken by the flight to reach the destination.\n",
    "- **Dep_Time:** The time when the journey starts from the source.\n",
    "- **Arrival_Time:** Time of arrival at the destination.\n",
    "- **Duration:** Total duration of the flight.\n",
    "- **Total_Stops:** Total stops between the source and destination.\n",
    "- **Additional_Info:** Additional information about the flight\n",
    "- **Price:** The price of the ticket"
   ]
  },
  {
   "cell_type": "code",
   "execution_count": 1,
   "metadata": {},
   "outputs": [],
   "source": [
    "import pandas as pd\n",
    "import numpy as np\n",
    "import matplotlib.pyplot as plt\n",
    "import seaborn as sns\n",
    "\n",
    "from sklearn.model_selection import train_test_split, cross_val_score, KFold, GridSearchCV\n",
    "\n",
    "import category_encoders as ce\n",
    "import category_encoders as ce\n",
    "from sklearn.preprocessing import OneHotEncoder\n",
    "from sklearn.preprocessing import MinMaxScaler, StandardScaler, RobustScaler\n",
    "\n",
    "from sklearn.pipeline import Pipeline\n",
    "from sklearn.compose import ColumnTransformer\n",
    "\n",
    "from sklearn.linear_model import Ridge\n",
    "from sklearn.neighbors import KNeighborsRegressor\n",
    "from sklearn.ensemble import RandomForestRegressor\n",
    "\n",
    "from sklearn.metrics import r2_score, mean_squared_error, mean_absolute_error\n",
    "\n",
    "import pickle"
   ]
  },
  {
   "cell_type": "code",
   "execution_count": 2,
   "metadata": {},
   "outputs": [],
   "source": [
    "pd.set_option('display.max_columns', 25)"
   ]
  },
  {
   "cell_type": "code",
   "execution_count": 3,
   "metadata": {},
   "outputs": [
    {
     "data": {
      "text/html": [
       "<div>\n",
       "<style scoped>\n",
       "    .dataframe tbody tr th:only-of-type {\n",
       "        vertical-align: middle;\n",
       "    }\n",
       "\n",
       "    .dataframe tbody tr th {\n",
       "        vertical-align: top;\n",
       "    }\n",
       "\n",
       "    .dataframe thead th {\n",
       "        text-align: right;\n",
       "    }\n",
       "</style>\n",
       "<table border=\"1\" class=\"dataframe\">\n",
       "  <thead>\n",
       "    <tr style=\"text-align: right;\">\n",
       "      <th></th>\n",
       "      <th>Airline</th>\n",
       "      <th>Date_of_Journey</th>\n",
       "      <th>Source</th>\n",
       "      <th>Destination</th>\n",
       "      <th>Route</th>\n",
       "      <th>Dep_Time</th>\n",
       "      <th>Arrival_Time</th>\n",
       "      <th>Duration</th>\n",
       "      <th>Total_Stops</th>\n",
       "      <th>Additional_Info</th>\n",
       "      <th>Price</th>\n",
       "    </tr>\n",
       "  </thead>\n",
       "  <tbody>\n",
       "    <tr>\n",
       "      <th>0</th>\n",
       "      <td>IndiGo</td>\n",
       "      <td>24/03/2019</td>\n",
       "      <td>Banglore</td>\n",
       "      <td>New Delhi</td>\n",
       "      <td>BLR → DEL</td>\n",
       "      <td>22:20</td>\n",
       "      <td>01:10 22 Mar</td>\n",
       "      <td>2h 50m</td>\n",
       "      <td>non-stop</td>\n",
       "      <td>No info</td>\n",
       "      <td>3897</td>\n",
       "    </tr>\n",
       "    <tr>\n",
       "      <th>1</th>\n",
       "      <td>Air India</td>\n",
       "      <td>1/05/2019</td>\n",
       "      <td>Kolkata</td>\n",
       "      <td>Banglore</td>\n",
       "      <td>CCU → IXR → BBI → BLR</td>\n",
       "      <td>05:50</td>\n",
       "      <td>13:15</td>\n",
       "      <td>7h 25m</td>\n",
       "      <td>2 stops</td>\n",
       "      <td>No info</td>\n",
       "      <td>7662</td>\n",
       "    </tr>\n",
       "    <tr>\n",
       "      <th>2</th>\n",
       "      <td>Jet Airways</td>\n",
       "      <td>9/06/2019</td>\n",
       "      <td>Delhi</td>\n",
       "      <td>Cochin</td>\n",
       "      <td>DEL → LKO → BOM → COK</td>\n",
       "      <td>09:25</td>\n",
       "      <td>04:25 10 Jun</td>\n",
       "      <td>19h</td>\n",
       "      <td>2 stops</td>\n",
       "      <td>No info</td>\n",
       "      <td>13882</td>\n",
       "    </tr>\n",
       "    <tr>\n",
       "      <th>3</th>\n",
       "      <td>IndiGo</td>\n",
       "      <td>12/05/2019</td>\n",
       "      <td>Kolkata</td>\n",
       "      <td>Banglore</td>\n",
       "      <td>CCU → NAG → BLR</td>\n",
       "      <td>18:05</td>\n",
       "      <td>23:30</td>\n",
       "      <td>5h 25m</td>\n",
       "      <td>1 stop</td>\n",
       "      <td>No info</td>\n",
       "      <td>6218</td>\n",
       "    </tr>\n",
       "    <tr>\n",
       "      <th>4</th>\n",
       "      <td>IndiGo</td>\n",
       "      <td>01/03/2019</td>\n",
       "      <td>Banglore</td>\n",
       "      <td>New Delhi</td>\n",
       "      <td>BLR → NAG → DEL</td>\n",
       "      <td>16:50</td>\n",
       "      <td>21:35</td>\n",
       "      <td>4h 45m</td>\n",
       "      <td>1 stop</td>\n",
       "      <td>No info</td>\n",
       "      <td>13302</td>\n",
       "    </tr>\n",
       "  </tbody>\n",
       "</table>\n",
       "</div>"
      ],
      "text/plain": [
       "       Airline Date_of_Journey    Source Destination                  Route  \\\n",
       "0       IndiGo      24/03/2019  Banglore   New Delhi              BLR → DEL   \n",
       "1    Air India       1/05/2019   Kolkata    Banglore  CCU → IXR → BBI → BLR   \n",
       "2  Jet Airways       9/06/2019     Delhi      Cochin  DEL → LKO → BOM → COK   \n",
       "3       IndiGo      12/05/2019   Kolkata    Banglore        CCU → NAG → BLR   \n",
       "4       IndiGo      01/03/2019  Banglore   New Delhi        BLR → NAG → DEL   \n",
       "\n",
       "  Dep_Time  Arrival_Time Duration Total_Stops Additional_Info  Price  \n",
       "0    22:20  01:10 22 Mar   2h 50m    non-stop         No info   3897  \n",
       "1    05:50         13:15   7h 25m     2 stops         No info   7662  \n",
       "2    09:25  04:25 10 Jun      19h     2 stops         No info  13882  \n",
       "3    18:05         23:30   5h 25m      1 stop         No info   6218  \n",
       "4    16:50         21:35   4h 45m      1 stop         No info  13302  "
      ]
     },
     "execution_count": 3,
     "metadata": {},
     "output_type": "execute_result"
    }
   ],
   "source": [
    "train_data = pd.read_excel('Data_Train.xlsx', engine='openpyxl')\n",
    "train_data.head()"
   ]
  },
  {
   "cell_type": "code",
   "execution_count": 4,
   "metadata": {
    "scrolled": true
   },
   "outputs": [
    {
     "data": {
      "text/plain": [
       "(10683, 11)"
      ]
     },
     "execution_count": 4,
     "metadata": {},
     "output_type": "execute_result"
    }
   ],
   "source": [
    "train_data.shape"
   ]
  },
  {
   "cell_type": "markdown",
   "metadata": {},
   "source": [
    "# 2. Data Pre-Processing and Feature Engineering"
   ]
  },
  {
   "cell_type": "code",
   "execution_count": 5,
   "metadata": {},
   "outputs": [
    {
     "name": "stdout",
     "output_type": "stream",
     "text": [
      "<class 'pandas.core.frame.DataFrame'>\n",
      "RangeIndex: 10683 entries, 0 to 10682\n",
      "Data columns (total 11 columns):\n",
      " #   Column           Non-Null Count  Dtype \n",
      "---  ------           --------------  ----- \n",
      " 0   Airline          10683 non-null  object\n",
      " 1   Date_of_Journey  10683 non-null  object\n",
      " 2   Source           10683 non-null  object\n",
      " 3   Destination      10683 non-null  object\n",
      " 4   Route            10682 non-null  object\n",
      " 5   Dep_Time         10683 non-null  object\n",
      " 6   Arrival_Time     10683 non-null  object\n",
      " 7   Duration         10683 non-null  object\n",
      " 8   Total_Stops      10682 non-null  object\n",
      " 9   Additional_Info  10683 non-null  object\n",
      " 10  Price            10683 non-null  int64 \n",
      "dtypes: int64(1), object(10)\n",
      "memory usage: 918.2+ KB\n"
     ]
    }
   ],
   "source": [
    "train_data.info()"
   ]
  },
  {
   "cell_type": "markdown",
   "metadata": {},
   "source": [
    "## A. Handling Missing Value"
   ]
  },
  {
   "cell_type": "code",
   "execution_count": 6,
   "metadata": {},
   "outputs": [
    {
     "data": {
      "text/plain": [
       "Airline            0\n",
       "Date_of_Journey    0\n",
       "Source             0\n",
       "Destination        0\n",
       "Route              1\n",
       "Dep_Time           0\n",
       "Arrival_Time       0\n",
       "Duration           0\n",
       "Total_Stops        1\n",
       "Additional_Info    0\n",
       "Price              0\n",
       "dtype: int64"
      ]
     },
     "execution_count": 6,
     "metadata": {},
     "output_type": "execute_result"
    }
   ],
   "source": [
    "train_data.isna().sum()"
   ]
  },
  {
   "cell_type": "code",
   "execution_count": 7,
   "metadata": {},
   "outputs": [],
   "source": [
    "train_data.dropna(inplace=True)"
   ]
  },
  {
   "cell_type": "code",
   "execution_count": 8,
   "metadata": {
    "scrolled": true
   },
   "outputs": [
    {
     "data": {
      "text/plain": [
       "Airline            0\n",
       "Date_of_Journey    0\n",
       "Source             0\n",
       "Destination        0\n",
       "Route              0\n",
       "Dep_Time           0\n",
       "Arrival_Time       0\n",
       "Duration           0\n",
       "Total_Stops        0\n",
       "Additional_Info    0\n",
       "Price              0\n",
       "dtype: int64"
      ]
     },
     "execution_count": 8,
     "metadata": {},
     "output_type": "execute_result"
    }
   ],
   "source": [
    "train_data.isna().sum()"
   ]
  },
  {
   "cell_type": "markdown",
   "metadata": {},
   "source": [
    "There are missing value in `Route` and `Total_Stops` features. However, each feature only has 1 missing value. It can be directly be dropped."
   ]
  },
  {
   "cell_type": "markdown",
   "metadata": {},
   "source": [
    "## B. Extract New Features and Data Formatting"
   ]
  },
  {
   "cell_type": "markdown",
   "metadata": {},
   "source": [
    "### Change Time Data to Datetime Format"
   ]
  },
  {
   "cell_type": "markdown",
   "metadata": {},
   "source": [
    "`The Date_of_Journey`, `Dep_Time`, `Arrival_Time` features reflect time stamp information. Because the type is object, it should be converted to datetime type. "
   ]
  },
  {
   "cell_type": "code",
   "execution_count": 9,
   "metadata": {
    "scrolled": true
   },
   "outputs": [
    {
     "data": {
      "text/plain": [
       "Index(['Airline', 'Date_of_Journey', 'Source', 'Destination', 'Route',\n",
       "       'Dep_Time', 'Arrival_Time', 'Duration', 'Total_Stops',\n",
       "       'Additional_Info', 'Price'],\n",
       "      dtype='object')"
      ]
     },
     "execution_count": 9,
     "metadata": {},
     "output_type": "execute_result"
    }
   ],
   "source": [
    "train_data.columns"
   ]
  },
  {
   "cell_type": "code",
   "execution_count": 10,
   "metadata": {},
   "outputs": [],
   "source": [
    "for col in ['Date_of_Journey', 'Dep_Time', 'Arrival_Time'] :\n",
    "    train_data[col] = pd.to_datetime(train_data[col])"
   ]
  },
  {
   "cell_type": "code",
   "execution_count": 11,
   "metadata": {
    "scrolled": true
   },
   "outputs": [
    {
     "data": {
      "text/plain": [
       "Airline                    object\n",
       "Date_of_Journey    datetime64[ns]\n",
       "Source                     object\n",
       "Destination                object\n",
       "Route                      object\n",
       "Dep_Time           datetime64[ns]\n",
       "Arrival_Time       datetime64[ns]\n",
       "Duration                   object\n",
       "Total_Stops                object\n",
       "Additional_Info            object\n",
       "Price                       int64\n",
       "dtype: object"
      ]
     },
     "execution_count": 11,
     "metadata": {},
     "output_type": "execute_result"
    }
   ],
   "source": [
    "train_data.dtypes"
   ]
  },
  {
   "cell_type": "markdown",
   "metadata": {},
   "source": [
    "### Extract Features from Date of Journey\n",
    "Extract day and month from `Date_of_Journey` as new features (`Journey_Day` and `Journey_Month`)."
   ]
  },
  {
   "cell_type": "code",
   "execution_count": 12,
   "metadata": {},
   "outputs": [],
   "source": [
    "train_data['Journey_Day'] = train_data['Date_of_Journey'].dt.day\n",
    "train_data['Journey_Month'] = train_data['Date_of_Journey'].dt.month"
   ]
  },
  {
   "cell_type": "code",
   "execution_count": 13,
   "metadata": {},
   "outputs": [],
   "source": [
    "train_data.drop('Date_of_Journey', axis=1, inplace=True)"
   ]
  },
  {
   "cell_type": "markdown",
   "metadata": {},
   "source": [
    "### Extract Features from Departure Time\n",
    "Extract hour and minute from `Dep_Time` as new features (`Dep_Time_Hours` and `Dep_Time_Minutes`)."
   ]
  },
  {
   "cell_type": "code",
   "execution_count": 14,
   "metadata": {},
   "outputs": [
    {
     "data": {
      "text/html": [
       "<div>\n",
       "<style scoped>\n",
       "    .dataframe tbody tr th:only-of-type {\n",
       "        vertical-align: middle;\n",
       "    }\n",
       "\n",
       "    .dataframe tbody tr th {\n",
       "        vertical-align: top;\n",
       "    }\n",
       "\n",
       "    .dataframe thead th {\n",
       "        text-align: right;\n",
       "    }\n",
       "</style>\n",
       "<table border=\"1\" class=\"dataframe\">\n",
       "  <thead>\n",
       "    <tr style=\"text-align: right;\">\n",
       "      <th></th>\n",
       "      <th>Airline</th>\n",
       "      <th>Source</th>\n",
       "      <th>Destination</th>\n",
       "      <th>Route</th>\n",
       "      <th>Dep_Time</th>\n",
       "      <th>Arrival_Time</th>\n",
       "      <th>Duration</th>\n",
       "      <th>Total_Stops</th>\n",
       "      <th>Additional_Info</th>\n",
       "      <th>Price</th>\n",
       "      <th>Journey_Day</th>\n",
       "      <th>Journey_Month</th>\n",
       "    </tr>\n",
       "  </thead>\n",
       "  <tbody>\n",
       "    <tr>\n",
       "      <th>0</th>\n",
       "      <td>IndiGo</td>\n",
       "      <td>Banglore</td>\n",
       "      <td>New Delhi</td>\n",
       "      <td>BLR → DEL</td>\n",
       "      <td>2021-06-03 22:20:00</td>\n",
       "      <td>2021-03-22 01:10:00</td>\n",
       "      <td>2h 50m</td>\n",
       "      <td>non-stop</td>\n",
       "      <td>No info</td>\n",
       "      <td>3897</td>\n",
       "      <td>24</td>\n",
       "      <td>3</td>\n",
       "    </tr>\n",
       "    <tr>\n",
       "      <th>1</th>\n",
       "      <td>Air India</td>\n",
       "      <td>Kolkata</td>\n",
       "      <td>Banglore</td>\n",
       "      <td>CCU → IXR → BBI → BLR</td>\n",
       "      <td>2021-06-03 05:50:00</td>\n",
       "      <td>2021-06-03 13:15:00</td>\n",
       "      <td>7h 25m</td>\n",
       "      <td>2 stops</td>\n",
       "      <td>No info</td>\n",
       "      <td>7662</td>\n",
       "      <td>5</td>\n",
       "      <td>1</td>\n",
       "    </tr>\n",
       "    <tr>\n",
       "      <th>2</th>\n",
       "      <td>Jet Airways</td>\n",
       "      <td>Delhi</td>\n",
       "      <td>Cochin</td>\n",
       "      <td>DEL → LKO → BOM → COK</td>\n",
       "      <td>2021-06-03 09:25:00</td>\n",
       "      <td>2021-06-10 04:25:00</td>\n",
       "      <td>19h</td>\n",
       "      <td>2 stops</td>\n",
       "      <td>No info</td>\n",
       "      <td>13882</td>\n",
       "      <td>6</td>\n",
       "      <td>9</td>\n",
       "    </tr>\n",
       "    <tr>\n",
       "      <th>3</th>\n",
       "      <td>IndiGo</td>\n",
       "      <td>Kolkata</td>\n",
       "      <td>Banglore</td>\n",
       "      <td>CCU → NAG → BLR</td>\n",
       "      <td>2021-06-03 18:05:00</td>\n",
       "      <td>2021-06-03 23:30:00</td>\n",
       "      <td>5h 25m</td>\n",
       "      <td>1 stop</td>\n",
       "      <td>No info</td>\n",
       "      <td>6218</td>\n",
       "      <td>5</td>\n",
       "      <td>12</td>\n",
       "    </tr>\n",
       "    <tr>\n",
       "      <th>4</th>\n",
       "      <td>IndiGo</td>\n",
       "      <td>Banglore</td>\n",
       "      <td>New Delhi</td>\n",
       "      <td>BLR → NAG → DEL</td>\n",
       "      <td>2021-06-03 16:50:00</td>\n",
       "      <td>2021-06-03 21:35:00</td>\n",
       "      <td>4h 45m</td>\n",
       "      <td>1 stop</td>\n",
       "      <td>No info</td>\n",
       "      <td>13302</td>\n",
       "      <td>3</td>\n",
       "      <td>1</td>\n",
       "    </tr>\n",
       "  </tbody>\n",
       "</table>\n",
       "</div>"
      ],
      "text/plain": [
       "       Airline    Source Destination                  Route  \\\n",
       "0       IndiGo  Banglore   New Delhi              BLR → DEL   \n",
       "1    Air India   Kolkata    Banglore  CCU → IXR → BBI → BLR   \n",
       "2  Jet Airways     Delhi      Cochin  DEL → LKO → BOM → COK   \n",
       "3       IndiGo   Kolkata    Banglore        CCU → NAG → BLR   \n",
       "4       IndiGo  Banglore   New Delhi        BLR → NAG → DEL   \n",
       "\n",
       "             Dep_Time        Arrival_Time Duration Total_Stops  \\\n",
       "0 2021-06-03 22:20:00 2021-03-22 01:10:00   2h 50m    non-stop   \n",
       "1 2021-06-03 05:50:00 2021-06-03 13:15:00   7h 25m     2 stops   \n",
       "2 2021-06-03 09:25:00 2021-06-10 04:25:00      19h     2 stops   \n",
       "3 2021-06-03 18:05:00 2021-06-03 23:30:00   5h 25m      1 stop   \n",
       "4 2021-06-03 16:50:00 2021-06-03 21:35:00   4h 45m      1 stop   \n",
       "\n",
       "  Additional_Info  Price  Journey_Day  Journey_Month  \n",
       "0         No info   3897           24              3  \n",
       "1         No info   7662            5              1  \n",
       "2         No info  13882            6              9  \n",
       "3         No info   6218            5             12  \n",
       "4         No info  13302            3              1  "
      ]
     },
     "execution_count": 14,
     "metadata": {},
     "output_type": "execute_result"
    }
   ],
   "source": [
    "train_data.head()"
   ]
  },
  {
   "cell_type": "code",
   "execution_count": 15,
   "metadata": {},
   "outputs": [],
   "source": [
    "def extract_hour(df, col) :\n",
    "    df[col+\"_Hours\"] = df[col].dt.hour\n",
    "    \n",
    "def extract_min(df, col) :\n",
    "    df[col+\"_Minutes\"] = df[col].dt.minute"
   ]
  },
  {
   "cell_type": "code",
   "execution_count": 16,
   "metadata": {},
   "outputs": [],
   "source": [
    "extract_hour(train_data, 'Dep_Time')\n",
    "extract_min(train_data, 'Dep_Time')"
   ]
  },
  {
   "cell_type": "markdown",
   "metadata": {},
   "source": [
    "### Extract Features from Arrival Time\n",
    "Extract hour and minute from `Arrival_Time` as new features (`Arrival_Time_Hours` and `Arrival_Time_Minutes`)."
   ]
  },
  {
   "cell_type": "code",
   "execution_count": 17,
   "metadata": {},
   "outputs": [],
   "source": [
    "extract_hour(train_data, 'Arrival_Time')\n",
    "extract_min(train_data, 'Arrival_Time')"
   ]
  },
  {
   "cell_type": "code",
   "execution_count": 18,
   "metadata": {},
   "outputs": [],
   "source": [
    "train_data.drop(['Dep_Time', 'Arrival_Time'], axis=1, inplace=True)"
   ]
  },
  {
   "cell_type": "markdown",
   "metadata": {},
   "source": [
    "### Extract Features from Duration\n",
    "Extract hour and minute from Duration as new features (`Duration_Hours` and `Duration_Minutes`)."
   ]
  },
  {
   "cell_type": "code",
   "execution_count": 19,
   "metadata": {},
   "outputs": [
    {
     "data": {
      "text/html": [
       "<div>\n",
       "<style scoped>\n",
       "    .dataframe tbody tr th:only-of-type {\n",
       "        vertical-align: middle;\n",
       "    }\n",
       "\n",
       "    .dataframe tbody tr th {\n",
       "        vertical-align: top;\n",
       "    }\n",
       "\n",
       "    .dataframe thead th {\n",
       "        text-align: right;\n",
       "    }\n",
       "</style>\n",
       "<table border=\"1\" class=\"dataframe\">\n",
       "  <thead>\n",
       "    <tr style=\"text-align: right;\">\n",
       "      <th></th>\n",
       "      <th>Airline</th>\n",
       "      <th>Source</th>\n",
       "      <th>Destination</th>\n",
       "      <th>Route</th>\n",
       "      <th>Duration</th>\n",
       "      <th>Total_Stops</th>\n",
       "      <th>Additional_Info</th>\n",
       "      <th>Price</th>\n",
       "      <th>Journey_Day</th>\n",
       "      <th>Journey_Month</th>\n",
       "      <th>Dep_Time_Hours</th>\n",
       "      <th>Dep_Time_Minutes</th>\n",
       "      <th>Arrival_Time_Hours</th>\n",
       "      <th>Arrival_Time_Minutes</th>\n",
       "    </tr>\n",
       "  </thead>\n",
       "  <tbody>\n",
       "    <tr>\n",
       "      <th>0</th>\n",
       "      <td>IndiGo</td>\n",
       "      <td>Banglore</td>\n",
       "      <td>New Delhi</td>\n",
       "      <td>BLR → DEL</td>\n",
       "      <td>2h 50m</td>\n",
       "      <td>non-stop</td>\n",
       "      <td>No info</td>\n",
       "      <td>3897</td>\n",
       "      <td>24</td>\n",
       "      <td>3</td>\n",
       "      <td>22</td>\n",
       "      <td>20</td>\n",
       "      <td>1</td>\n",
       "      <td>10</td>\n",
       "    </tr>\n",
       "    <tr>\n",
       "      <th>1</th>\n",
       "      <td>Air India</td>\n",
       "      <td>Kolkata</td>\n",
       "      <td>Banglore</td>\n",
       "      <td>CCU → IXR → BBI → BLR</td>\n",
       "      <td>7h 25m</td>\n",
       "      <td>2 stops</td>\n",
       "      <td>No info</td>\n",
       "      <td>7662</td>\n",
       "      <td>5</td>\n",
       "      <td>1</td>\n",
       "      <td>5</td>\n",
       "      <td>50</td>\n",
       "      <td>13</td>\n",
       "      <td>15</td>\n",
       "    </tr>\n",
       "    <tr>\n",
       "      <th>2</th>\n",
       "      <td>Jet Airways</td>\n",
       "      <td>Delhi</td>\n",
       "      <td>Cochin</td>\n",
       "      <td>DEL → LKO → BOM → COK</td>\n",
       "      <td>19h</td>\n",
       "      <td>2 stops</td>\n",
       "      <td>No info</td>\n",
       "      <td>13882</td>\n",
       "      <td>6</td>\n",
       "      <td>9</td>\n",
       "      <td>9</td>\n",
       "      <td>25</td>\n",
       "      <td>4</td>\n",
       "      <td>25</td>\n",
       "    </tr>\n",
       "    <tr>\n",
       "      <th>3</th>\n",
       "      <td>IndiGo</td>\n",
       "      <td>Kolkata</td>\n",
       "      <td>Banglore</td>\n",
       "      <td>CCU → NAG → BLR</td>\n",
       "      <td>5h 25m</td>\n",
       "      <td>1 stop</td>\n",
       "      <td>No info</td>\n",
       "      <td>6218</td>\n",
       "      <td>5</td>\n",
       "      <td>12</td>\n",
       "      <td>18</td>\n",
       "      <td>5</td>\n",
       "      <td>23</td>\n",
       "      <td>30</td>\n",
       "    </tr>\n",
       "    <tr>\n",
       "      <th>4</th>\n",
       "      <td>IndiGo</td>\n",
       "      <td>Banglore</td>\n",
       "      <td>New Delhi</td>\n",
       "      <td>BLR → NAG → DEL</td>\n",
       "      <td>4h 45m</td>\n",
       "      <td>1 stop</td>\n",
       "      <td>No info</td>\n",
       "      <td>13302</td>\n",
       "      <td>3</td>\n",
       "      <td>1</td>\n",
       "      <td>16</td>\n",
       "      <td>50</td>\n",
       "      <td>21</td>\n",
       "      <td>35</td>\n",
       "    </tr>\n",
       "  </tbody>\n",
       "</table>\n",
       "</div>"
      ],
      "text/plain": [
       "       Airline    Source Destination                  Route Duration  \\\n",
       "0       IndiGo  Banglore   New Delhi              BLR → DEL   2h 50m   \n",
       "1    Air India   Kolkata    Banglore  CCU → IXR → BBI → BLR   7h 25m   \n",
       "2  Jet Airways     Delhi      Cochin  DEL → LKO → BOM → COK      19h   \n",
       "3       IndiGo   Kolkata    Banglore        CCU → NAG → BLR   5h 25m   \n",
       "4       IndiGo  Banglore   New Delhi        BLR → NAG → DEL   4h 45m   \n",
       "\n",
       "  Total_Stops Additional_Info  Price  Journey_Day  Journey_Month  \\\n",
       "0    non-stop         No info   3897           24              3   \n",
       "1     2 stops         No info   7662            5              1   \n",
       "2     2 stops         No info  13882            6              9   \n",
       "3      1 stop         No info   6218            5             12   \n",
       "4      1 stop         No info  13302            3              1   \n",
       "\n",
       "   Dep_Time_Hours  Dep_Time_Minutes  Arrival_Time_Hours  Arrival_Time_Minutes  \n",
       "0              22                20                   1                    10  \n",
       "1               5                50                  13                    15  \n",
       "2               9                25                   4                    25  \n",
       "3              18                 5                  23                    30  \n",
       "4              16                50                  21                    35  "
      ]
     },
     "execution_count": 19,
     "metadata": {},
     "output_type": "execute_result"
    }
   ],
   "source": [
    "train_data.head()"
   ]
  },
  {
   "cell_type": "code",
   "execution_count": 20,
   "metadata": {},
   "outputs": [],
   "source": [
    "duration = []\n",
    "\n",
    "for i in train_data['Duration'] :\n",
    "    if len(i.split(' ')) == 2 :\n",
    "        duration.append(i)\n",
    "    else :\n",
    "        if 'h' in i :\n",
    "            duration.append(i + ' 0m')\n",
    "        else :\n",
    "            duration.append('0h ' + i)"
   ]
  },
  {
   "cell_type": "code",
   "execution_count": 21,
   "metadata": {},
   "outputs": [],
   "source": [
    "train_data['Duration'] = duration"
   ]
  },
  {
   "cell_type": "code",
   "execution_count": 22,
   "metadata": {},
   "outputs": [
    {
     "data": {
      "text/html": [
       "<div>\n",
       "<style scoped>\n",
       "    .dataframe tbody tr th:only-of-type {\n",
       "        vertical-align: middle;\n",
       "    }\n",
       "\n",
       "    .dataframe tbody tr th {\n",
       "        vertical-align: top;\n",
       "    }\n",
       "\n",
       "    .dataframe thead th {\n",
       "        text-align: right;\n",
       "    }\n",
       "</style>\n",
       "<table border=\"1\" class=\"dataframe\">\n",
       "  <thead>\n",
       "    <tr style=\"text-align: right;\">\n",
       "      <th></th>\n",
       "      <th>Airline</th>\n",
       "      <th>Source</th>\n",
       "      <th>Destination</th>\n",
       "      <th>Route</th>\n",
       "      <th>Duration</th>\n",
       "      <th>Total_Stops</th>\n",
       "      <th>Additional_Info</th>\n",
       "      <th>Price</th>\n",
       "      <th>Journey_Day</th>\n",
       "      <th>Journey_Month</th>\n",
       "      <th>Dep_Time_Hours</th>\n",
       "      <th>Dep_Time_Minutes</th>\n",
       "      <th>Arrival_Time_Hours</th>\n",
       "      <th>Arrival_Time_Minutes</th>\n",
       "    </tr>\n",
       "  </thead>\n",
       "  <tbody>\n",
       "    <tr>\n",
       "      <th>0</th>\n",
       "      <td>IndiGo</td>\n",
       "      <td>Banglore</td>\n",
       "      <td>New Delhi</td>\n",
       "      <td>BLR → DEL</td>\n",
       "      <td>2h 50m</td>\n",
       "      <td>non-stop</td>\n",
       "      <td>No info</td>\n",
       "      <td>3897</td>\n",
       "      <td>24</td>\n",
       "      <td>3</td>\n",
       "      <td>22</td>\n",
       "      <td>20</td>\n",
       "      <td>1</td>\n",
       "      <td>10</td>\n",
       "    </tr>\n",
       "    <tr>\n",
       "      <th>1</th>\n",
       "      <td>Air India</td>\n",
       "      <td>Kolkata</td>\n",
       "      <td>Banglore</td>\n",
       "      <td>CCU → IXR → BBI → BLR</td>\n",
       "      <td>7h 25m</td>\n",
       "      <td>2 stops</td>\n",
       "      <td>No info</td>\n",
       "      <td>7662</td>\n",
       "      <td>5</td>\n",
       "      <td>1</td>\n",
       "      <td>5</td>\n",
       "      <td>50</td>\n",
       "      <td>13</td>\n",
       "      <td>15</td>\n",
       "    </tr>\n",
       "    <tr>\n",
       "      <th>2</th>\n",
       "      <td>Jet Airways</td>\n",
       "      <td>Delhi</td>\n",
       "      <td>Cochin</td>\n",
       "      <td>DEL → LKO → BOM → COK</td>\n",
       "      <td>19h 0m</td>\n",
       "      <td>2 stops</td>\n",
       "      <td>No info</td>\n",
       "      <td>13882</td>\n",
       "      <td>6</td>\n",
       "      <td>9</td>\n",
       "      <td>9</td>\n",
       "      <td>25</td>\n",
       "      <td>4</td>\n",
       "      <td>25</td>\n",
       "    </tr>\n",
       "    <tr>\n",
       "      <th>3</th>\n",
       "      <td>IndiGo</td>\n",
       "      <td>Kolkata</td>\n",
       "      <td>Banglore</td>\n",
       "      <td>CCU → NAG → BLR</td>\n",
       "      <td>5h 25m</td>\n",
       "      <td>1 stop</td>\n",
       "      <td>No info</td>\n",
       "      <td>6218</td>\n",
       "      <td>5</td>\n",
       "      <td>12</td>\n",
       "      <td>18</td>\n",
       "      <td>5</td>\n",
       "      <td>23</td>\n",
       "      <td>30</td>\n",
       "    </tr>\n",
       "    <tr>\n",
       "      <th>4</th>\n",
       "      <td>IndiGo</td>\n",
       "      <td>Banglore</td>\n",
       "      <td>New Delhi</td>\n",
       "      <td>BLR → NAG → DEL</td>\n",
       "      <td>4h 45m</td>\n",
       "      <td>1 stop</td>\n",
       "      <td>No info</td>\n",
       "      <td>13302</td>\n",
       "      <td>3</td>\n",
       "      <td>1</td>\n",
       "      <td>16</td>\n",
       "      <td>50</td>\n",
       "      <td>21</td>\n",
       "      <td>35</td>\n",
       "    </tr>\n",
       "  </tbody>\n",
       "</table>\n",
       "</div>"
      ],
      "text/plain": [
       "       Airline    Source Destination                  Route Duration  \\\n",
       "0       IndiGo  Banglore   New Delhi              BLR → DEL   2h 50m   \n",
       "1    Air India   Kolkata    Banglore  CCU → IXR → BBI → BLR   7h 25m   \n",
       "2  Jet Airways     Delhi      Cochin  DEL → LKO → BOM → COK   19h 0m   \n",
       "3       IndiGo   Kolkata    Banglore        CCU → NAG → BLR   5h 25m   \n",
       "4       IndiGo  Banglore   New Delhi        BLR → NAG → DEL   4h 45m   \n",
       "\n",
       "  Total_Stops Additional_Info  Price  Journey_Day  Journey_Month  \\\n",
       "0    non-stop         No info   3897           24              3   \n",
       "1     2 stops         No info   7662            5              1   \n",
       "2     2 stops         No info  13882            6              9   \n",
       "3      1 stop         No info   6218            5             12   \n",
       "4      1 stop         No info  13302            3              1   \n",
       "\n",
       "   Dep_Time_Hours  Dep_Time_Minutes  Arrival_Time_Hours  Arrival_Time_Minutes  \n",
       "0              22                20                   1                    10  \n",
       "1               5                50                  13                    15  \n",
       "2               9                25                   4                    25  \n",
       "3              18                 5                  23                    30  \n",
       "4              16                50                  21                    35  "
      ]
     },
     "execution_count": 22,
     "metadata": {},
     "output_type": "execute_result"
    }
   ],
   "source": [
    "train_data.head()"
   ]
  },
  {
   "cell_type": "code",
   "execution_count": 23,
   "metadata": {},
   "outputs": [],
   "source": [
    "train_data['Duration_Hours'] = train_data['Duration'].apply(lambda x: x.split(' ')[0][0:-1])\n",
    "train_data['Duration_Minutes'] = train_data['Duration'].apply(lambda x: x.split(' ')[1][0:-1])"
   ]
  },
  {
   "cell_type": "code",
   "execution_count": 24,
   "metadata": {},
   "outputs": [],
   "source": [
    "train_data.drop('Duration', axis=1, inplace=True)"
   ]
  },
  {
   "cell_type": "code",
   "execution_count": 25,
   "metadata": {},
   "outputs": [
    {
     "data": {
      "text/html": [
       "<div>\n",
       "<style scoped>\n",
       "    .dataframe tbody tr th:only-of-type {\n",
       "        vertical-align: middle;\n",
       "    }\n",
       "\n",
       "    .dataframe tbody tr th {\n",
       "        vertical-align: top;\n",
       "    }\n",
       "\n",
       "    .dataframe thead th {\n",
       "        text-align: right;\n",
       "    }\n",
       "</style>\n",
       "<table border=\"1\" class=\"dataframe\">\n",
       "  <thead>\n",
       "    <tr style=\"text-align: right;\">\n",
       "      <th></th>\n",
       "      <th>Airline</th>\n",
       "      <th>Source</th>\n",
       "      <th>Destination</th>\n",
       "      <th>Route</th>\n",
       "      <th>Total_Stops</th>\n",
       "      <th>Additional_Info</th>\n",
       "      <th>Price</th>\n",
       "      <th>Journey_Day</th>\n",
       "      <th>Journey_Month</th>\n",
       "      <th>Dep_Time_Hours</th>\n",
       "      <th>Dep_Time_Minutes</th>\n",
       "      <th>Arrival_Time_Hours</th>\n",
       "      <th>Arrival_Time_Minutes</th>\n",
       "      <th>Duration_Hours</th>\n",
       "      <th>Duration_Minutes</th>\n",
       "    </tr>\n",
       "  </thead>\n",
       "  <tbody>\n",
       "    <tr>\n",
       "      <th>0</th>\n",
       "      <td>IndiGo</td>\n",
       "      <td>Banglore</td>\n",
       "      <td>New Delhi</td>\n",
       "      <td>BLR → DEL</td>\n",
       "      <td>non-stop</td>\n",
       "      <td>No info</td>\n",
       "      <td>3897</td>\n",
       "      <td>24</td>\n",
       "      <td>3</td>\n",
       "      <td>22</td>\n",
       "      <td>20</td>\n",
       "      <td>1</td>\n",
       "      <td>10</td>\n",
       "      <td>2</td>\n",
       "      <td>50</td>\n",
       "    </tr>\n",
       "    <tr>\n",
       "      <th>1</th>\n",
       "      <td>Air India</td>\n",
       "      <td>Kolkata</td>\n",
       "      <td>Banglore</td>\n",
       "      <td>CCU → IXR → BBI → BLR</td>\n",
       "      <td>2 stops</td>\n",
       "      <td>No info</td>\n",
       "      <td>7662</td>\n",
       "      <td>5</td>\n",
       "      <td>1</td>\n",
       "      <td>5</td>\n",
       "      <td>50</td>\n",
       "      <td>13</td>\n",
       "      <td>15</td>\n",
       "      <td>7</td>\n",
       "      <td>25</td>\n",
       "    </tr>\n",
       "    <tr>\n",
       "      <th>2</th>\n",
       "      <td>Jet Airways</td>\n",
       "      <td>Delhi</td>\n",
       "      <td>Cochin</td>\n",
       "      <td>DEL → LKO → BOM → COK</td>\n",
       "      <td>2 stops</td>\n",
       "      <td>No info</td>\n",
       "      <td>13882</td>\n",
       "      <td>6</td>\n",
       "      <td>9</td>\n",
       "      <td>9</td>\n",
       "      <td>25</td>\n",
       "      <td>4</td>\n",
       "      <td>25</td>\n",
       "      <td>19</td>\n",
       "      <td>0</td>\n",
       "    </tr>\n",
       "    <tr>\n",
       "      <th>3</th>\n",
       "      <td>IndiGo</td>\n",
       "      <td>Kolkata</td>\n",
       "      <td>Banglore</td>\n",
       "      <td>CCU → NAG → BLR</td>\n",
       "      <td>1 stop</td>\n",
       "      <td>No info</td>\n",
       "      <td>6218</td>\n",
       "      <td>5</td>\n",
       "      <td>12</td>\n",
       "      <td>18</td>\n",
       "      <td>5</td>\n",
       "      <td>23</td>\n",
       "      <td>30</td>\n",
       "      <td>5</td>\n",
       "      <td>25</td>\n",
       "    </tr>\n",
       "    <tr>\n",
       "      <th>4</th>\n",
       "      <td>IndiGo</td>\n",
       "      <td>Banglore</td>\n",
       "      <td>New Delhi</td>\n",
       "      <td>BLR → NAG → DEL</td>\n",
       "      <td>1 stop</td>\n",
       "      <td>No info</td>\n",
       "      <td>13302</td>\n",
       "      <td>3</td>\n",
       "      <td>1</td>\n",
       "      <td>16</td>\n",
       "      <td>50</td>\n",
       "      <td>21</td>\n",
       "      <td>35</td>\n",
       "      <td>4</td>\n",
       "      <td>45</td>\n",
       "    </tr>\n",
       "  </tbody>\n",
       "</table>\n",
       "</div>"
      ],
      "text/plain": [
       "       Airline    Source Destination                  Route Total_Stops  \\\n",
       "0       IndiGo  Banglore   New Delhi              BLR → DEL    non-stop   \n",
       "1    Air India   Kolkata    Banglore  CCU → IXR → BBI → BLR     2 stops   \n",
       "2  Jet Airways     Delhi      Cochin  DEL → LKO → BOM → COK     2 stops   \n",
       "3       IndiGo   Kolkata    Banglore        CCU → NAG → BLR      1 stop   \n",
       "4       IndiGo  Banglore   New Delhi        BLR → NAG → DEL      1 stop   \n",
       "\n",
       "  Additional_Info  Price  Journey_Day  Journey_Month  Dep_Time_Hours  \\\n",
       "0         No info   3897           24              3              22   \n",
       "1         No info   7662            5              1               5   \n",
       "2         No info  13882            6              9               9   \n",
       "3         No info   6218            5             12              18   \n",
       "4         No info  13302            3              1              16   \n",
       "\n",
       "   Dep_Time_Minutes  Arrival_Time_Hours  Arrival_Time_Minutes Duration_Hours  \\\n",
       "0                20                   1                    10              2   \n",
       "1                50                  13                    15              7   \n",
       "2                25                   4                    25             19   \n",
       "3                 5                  23                    30              5   \n",
       "4                50                  21                    35              4   \n",
       "\n",
       "  Duration_Minutes  \n",
       "0               50  \n",
       "1               25  \n",
       "2                0  \n",
       "3               25  \n",
       "4               45  "
      ]
     },
     "execution_count": 25,
     "metadata": {},
     "output_type": "execute_result"
    }
   ],
   "source": [
    "train_data.head()"
   ]
  },
  {
   "cell_type": "code",
   "execution_count": 26,
   "metadata": {},
   "outputs": [
    {
     "data": {
      "text/plain": [
       "Airline                 object\n",
       "Source                  object\n",
       "Destination             object\n",
       "Route                   object\n",
       "Total_Stops             object\n",
       "Additional_Info         object\n",
       "Price                    int64\n",
       "Journey_Day              int64\n",
       "Journey_Month            int64\n",
       "Dep_Time_Hours           int64\n",
       "Dep_Time_Minutes         int64\n",
       "Arrival_Time_Hours       int64\n",
       "Arrival_Time_Minutes     int64\n",
       "Duration_Hours          object\n",
       "Duration_Minutes        object\n",
       "dtype: object"
      ]
     },
     "execution_count": 26,
     "metadata": {},
     "output_type": "execute_result"
    }
   ],
   "source": [
    "train_data.dtypes"
   ]
  },
  {
   "cell_type": "code",
   "execution_count": 27,
   "metadata": {},
   "outputs": [],
   "source": [
    "train_data['Duration_Hours'] = train_data['Duration_Hours'].astype(int)\n",
    "train_data['Duration_Minutes'] = train_data['Duration_Minutes'].astype(int)"
   ]
  },
  {
   "cell_type": "code",
   "execution_count": 28,
   "metadata": {
    "scrolled": true
   },
   "outputs": [
    {
     "data": {
      "text/plain": [
       "Airline                 object\n",
       "Source                  object\n",
       "Destination             object\n",
       "Route                   object\n",
       "Total_Stops             object\n",
       "Additional_Info         object\n",
       "Price                    int64\n",
       "Journey_Day              int64\n",
       "Journey_Month            int64\n",
       "Dep_Time_Hours           int64\n",
       "Dep_Time_Minutes         int64\n",
       "Arrival_Time_Hours       int64\n",
       "Arrival_Time_Minutes     int64\n",
       "Duration_Hours           int32\n",
       "Duration_Minutes         int32\n",
       "dtype: object"
      ]
     },
     "execution_count": 28,
     "metadata": {},
     "output_type": "execute_result"
    }
   ],
   "source": [
    "train_data.dtypes"
   ]
  },
  {
   "cell_type": "code",
   "execution_count": 29,
   "metadata": {},
   "outputs": [],
   "source": [
    "# train_data['Total_Duration'] = train_data['Duration_Hours'] + (train_data['Duration_Minutes']/60)"
   ]
  },
  {
   "cell_type": "markdown",
   "metadata": {},
   "source": [
    "### Format Total Stops"
   ]
  },
  {
   "cell_type": "markdown",
   "metadata": {},
   "source": [
    "`Total_Stops` will be formatted as integer data type. Non-stop value means 0 stop."
   ]
  },
  {
   "cell_type": "code",
   "execution_count": 30,
   "metadata": {
    "scrolled": false
   },
   "outputs": [
    {
     "data": {
      "text/html": [
       "<div>\n",
       "<style scoped>\n",
       "    .dataframe tbody tr th:only-of-type {\n",
       "        vertical-align: middle;\n",
       "    }\n",
       "\n",
       "    .dataframe tbody tr th {\n",
       "        vertical-align: top;\n",
       "    }\n",
       "\n",
       "    .dataframe thead th {\n",
       "        text-align: right;\n",
       "    }\n",
       "</style>\n",
       "<table border=\"1\" class=\"dataframe\">\n",
       "  <thead>\n",
       "    <tr style=\"text-align: right;\">\n",
       "      <th></th>\n",
       "      <th>Airline</th>\n",
       "      <th>Source</th>\n",
       "      <th>Destination</th>\n",
       "      <th>Route</th>\n",
       "      <th>Total_Stops</th>\n",
       "      <th>Additional_Info</th>\n",
       "      <th>Price</th>\n",
       "      <th>Journey_Day</th>\n",
       "      <th>Journey_Month</th>\n",
       "      <th>Dep_Time_Hours</th>\n",
       "      <th>Dep_Time_Minutes</th>\n",
       "      <th>Arrival_Time_Hours</th>\n",
       "      <th>Arrival_Time_Minutes</th>\n",
       "      <th>Duration_Hours</th>\n",
       "      <th>Duration_Minutes</th>\n",
       "    </tr>\n",
       "  </thead>\n",
       "  <tbody>\n",
       "    <tr>\n",
       "      <th>0</th>\n",
       "      <td>IndiGo</td>\n",
       "      <td>Banglore</td>\n",
       "      <td>New Delhi</td>\n",
       "      <td>BLR → DEL</td>\n",
       "      <td>non-stop</td>\n",
       "      <td>No info</td>\n",
       "      <td>3897</td>\n",
       "      <td>24</td>\n",
       "      <td>3</td>\n",
       "      <td>22</td>\n",
       "      <td>20</td>\n",
       "      <td>1</td>\n",
       "      <td>10</td>\n",
       "      <td>2</td>\n",
       "      <td>50</td>\n",
       "    </tr>\n",
       "    <tr>\n",
       "      <th>1</th>\n",
       "      <td>Air India</td>\n",
       "      <td>Kolkata</td>\n",
       "      <td>Banglore</td>\n",
       "      <td>CCU → IXR → BBI → BLR</td>\n",
       "      <td>2 stops</td>\n",
       "      <td>No info</td>\n",
       "      <td>7662</td>\n",
       "      <td>5</td>\n",
       "      <td>1</td>\n",
       "      <td>5</td>\n",
       "      <td>50</td>\n",
       "      <td>13</td>\n",
       "      <td>15</td>\n",
       "      <td>7</td>\n",
       "      <td>25</td>\n",
       "    </tr>\n",
       "    <tr>\n",
       "      <th>2</th>\n",
       "      <td>Jet Airways</td>\n",
       "      <td>Delhi</td>\n",
       "      <td>Cochin</td>\n",
       "      <td>DEL → LKO → BOM → COK</td>\n",
       "      <td>2 stops</td>\n",
       "      <td>No info</td>\n",
       "      <td>13882</td>\n",
       "      <td>6</td>\n",
       "      <td>9</td>\n",
       "      <td>9</td>\n",
       "      <td>25</td>\n",
       "      <td>4</td>\n",
       "      <td>25</td>\n",
       "      <td>19</td>\n",
       "      <td>0</td>\n",
       "    </tr>\n",
       "    <tr>\n",
       "      <th>3</th>\n",
       "      <td>IndiGo</td>\n",
       "      <td>Kolkata</td>\n",
       "      <td>Banglore</td>\n",
       "      <td>CCU → NAG → BLR</td>\n",
       "      <td>1 stop</td>\n",
       "      <td>No info</td>\n",
       "      <td>6218</td>\n",
       "      <td>5</td>\n",
       "      <td>12</td>\n",
       "      <td>18</td>\n",
       "      <td>5</td>\n",
       "      <td>23</td>\n",
       "      <td>30</td>\n",
       "      <td>5</td>\n",
       "      <td>25</td>\n",
       "    </tr>\n",
       "    <tr>\n",
       "      <th>4</th>\n",
       "      <td>IndiGo</td>\n",
       "      <td>Banglore</td>\n",
       "      <td>New Delhi</td>\n",
       "      <td>BLR → NAG → DEL</td>\n",
       "      <td>1 stop</td>\n",
       "      <td>No info</td>\n",
       "      <td>13302</td>\n",
       "      <td>3</td>\n",
       "      <td>1</td>\n",
       "      <td>16</td>\n",
       "      <td>50</td>\n",
       "      <td>21</td>\n",
       "      <td>35</td>\n",
       "      <td>4</td>\n",
       "      <td>45</td>\n",
       "    </tr>\n",
       "  </tbody>\n",
       "</table>\n",
       "</div>"
      ],
      "text/plain": [
       "       Airline    Source Destination                  Route Total_Stops  \\\n",
       "0       IndiGo  Banglore   New Delhi              BLR → DEL    non-stop   \n",
       "1    Air India   Kolkata    Banglore  CCU → IXR → BBI → BLR     2 stops   \n",
       "2  Jet Airways     Delhi      Cochin  DEL → LKO → BOM → COK     2 stops   \n",
       "3       IndiGo   Kolkata    Banglore        CCU → NAG → BLR      1 stop   \n",
       "4       IndiGo  Banglore   New Delhi        BLR → NAG → DEL      1 stop   \n",
       "\n",
       "  Additional_Info  Price  Journey_Day  Journey_Month  Dep_Time_Hours  \\\n",
       "0         No info   3897           24              3              22   \n",
       "1         No info   7662            5              1               5   \n",
       "2         No info  13882            6              9               9   \n",
       "3         No info   6218            5             12              18   \n",
       "4         No info  13302            3              1              16   \n",
       "\n",
       "   Dep_Time_Minutes  Arrival_Time_Hours  Arrival_Time_Minutes  Duration_Hours  \\\n",
       "0                20                   1                    10               2   \n",
       "1                50                  13                    15               7   \n",
       "2                25                   4                    25              19   \n",
       "3                 5                  23                    30               5   \n",
       "4                50                  21                    35               4   \n",
       "\n",
       "   Duration_Minutes  \n",
       "0                50  \n",
       "1                25  \n",
       "2                 0  \n",
       "3                25  \n",
       "4                45  "
      ]
     },
     "execution_count": 30,
     "metadata": {},
     "output_type": "execute_result"
    }
   ],
   "source": [
    "train_data.head()"
   ]
  },
  {
   "cell_type": "code",
   "execution_count": 31,
   "metadata": {},
   "outputs": [
    {
     "data": {
      "text/plain": [
       "1 stop      5625\n",
       "non-stop    3491\n",
       "2 stops     1520\n",
       "3 stops       45\n",
       "4 stops        1\n",
       "Name: Total_Stops, dtype: int64"
      ]
     },
     "execution_count": 31,
     "metadata": {},
     "output_type": "execute_result"
    }
   ],
   "source": [
    "train_data['Total_Stops'].value_counts()"
   ]
  },
  {
   "cell_type": "code",
   "execution_count": 32,
   "metadata": {},
   "outputs": [],
   "source": [
    "dict_stop = {'non-stop' : 0, '1 stop' : 1, '2 stops' : 2, '3 stops' : 3, '4 stops' : 4}"
   ]
  },
  {
   "cell_type": "code",
   "execution_count": 33,
   "metadata": {},
   "outputs": [],
   "source": [
    "train_data['Total_Stops'] = train_data['Total_Stops'].map(dict_stop)"
   ]
  },
  {
   "cell_type": "code",
   "execution_count": 34,
   "metadata": {},
   "outputs": [
    {
     "data": {
      "text/html": [
       "<div>\n",
       "<style scoped>\n",
       "    .dataframe tbody tr th:only-of-type {\n",
       "        vertical-align: middle;\n",
       "    }\n",
       "\n",
       "    .dataframe tbody tr th {\n",
       "        vertical-align: top;\n",
       "    }\n",
       "\n",
       "    .dataframe thead th {\n",
       "        text-align: right;\n",
       "    }\n",
       "</style>\n",
       "<table border=\"1\" class=\"dataframe\">\n",
       "  <thead>\n",
       "    <tr style=\"text-align: right;\">\n",
       "      <th></th>\n",
       "      <th>Airline</th>\n",
       "      <th>Source</th>\n",
       "      <th>Destination</th>\n",
       "      <th>Route</th>\n",
       "      <th>Total_Stops</th>\n",
       "      <th>Additional_Info</th>\n",
       "      <th>Price</th>\n",
       "      <th>Journey_Day</th>\n",
       "      <th>Journey_Month</th>\n",
       "      <th>Dep_Time_Hours</th>\n",
       "      <th>Dep_Time_Minutes</th>\n",
       "      <th>Arrival_Time_Hours</th>\n",
       "      <th>Arrival_Time_Minutes</th>\n",
       "      <th>Duration_Hours</th>\n",
       "      <th>Duration_Minutes</th>\n",
       "    </tr>\n",
       "  </thead>\n",
       "  <tbody>\n",
       "    <tr>\n",
       "      <th>0</th>\n",
       "      <td>IndiGo</td>\n",
       "      <td>Banglore</td>\n",
       "      <td>New Delhi</td>\n",
       "      <td>BLR → DEL</td>\n",
       "      <td>0</td>\n",
       "      <td>No info</td>\n",
       "      <td>3897</td>\n",
       "      <td>24</td>\n",
       "      <td>3</td>\n",
       "      <td>22</td>\n",
       "      <td>20</td>\n",
       "      <td>1</td>\n",
       "      <td>10</td>\n",
       "      <td>2</td>\n",
       "      <td>50</td>\n",
       "    </tr>\n",
       "    <tr>\n",
       "      <th>1</th>\n",
       "      <td>Air India</td>\n",
       "      <td>Kolkata</td>\n",
       "      <td>Banglore</td>\n",
       "      <td>CCU → IXR → BBI → BLR</td>\n",
       "      <td>2</td>\n",
       "      <td>No info</td>\n",
       "      <td>7662</td>\n",
       "      <td>5</td>\n",
       "      <td>1</td>\n",
       "      <td>5</td>\n",
       "      <td>50</td>\n",
       "      <td>13</td>\n",
       "      <td>15</td>\n",
       "      <td>7</td>\n",
       "      <td>25</td>\n",
       "    </tr>\n",
       "    <tr>\n",
       "      <th>2</th>\n",
       "      <td>Jet Airways</td>\n",
       "      <td>Delhi</td>\n",
       "      <td>Cochin</td>\n",
       "      <td>DEL → LKO → BOM → COK</td>\n",
       "      <td>2</td>\n",
       "      <td>No info</td>\n",
       "      <td>13882</td>\n",
       "      <td>6</td>\n",
       "      <td>9</td>\n",
       "      <td>9</td>\n",
       "      <td>25</td>\n",
       "      <td>4</td>\n",
       "      <td>25</td>\n",
       "      <td>19</td>\n",
       "      <td>0</td>\n",
       "    </tr>\n",
       "    <tr>\n",
       "      <th>3</th>\n",
       "      <td>IndiGo</td>\n",
       "      <td>Kolkata</td>\n",
       "      <td>Banglore</td>\n",
       "      <td>CCU → NAG → BLR</td>\n",
       "      <td>1</td>\n",
       "      <td>No info</td>\n",
       "      <td>6218</td>\n",
       "      <td>5</td>\n",
       "      <td>12</td>\n",
       "      <td>18</td>\n",
       "      <td>5</td>\n",
       "      <td>23</td>\n",
       "      <td>30</td>\n",
       "      <td>5</td>\n",
       "      <td>25</td>\n",
       "    </tr>\n",
       "    <tr>\n",
       "      <th>4</th>\n",
       "      <td>IndiGo</td>\n",
       "      <td>Banglore</td>\n",
       "      <td>New Delhi</td>\n",
       "      <td>BLR → NAG → DEL</td>\n",
       "      <td>1</td>\n",
       "      <td>No info</td>\n",
       "      <td>13302</td>\n",
       "      <td>3</td>\n",
       "      <td>1</td>\n",
       "      <td>16</td>\n",
       "      <td>50</td>\n",
       "      <td>21</td>\n",
       "      <td>35</td>\n",
       "      <td>4</td>\n",
       "      <td>45</td>\n",
       "    </tr>\n",
       "  </tbody>\n",
       "</table>\n",
       "</div>"
      ],
      "text/plain": [
       "       Airline    Source Destination                  Route  Total_Stops  \\\n",
       "0       IndiGo  Banglore   New Delhi              BLR → DEL            0   \n",
       "1    Air India   Kolkata    Banglore  CCU → IXR → BBI → BLR            2   \n",
       "2  Jet Airways     Delhi      Cochin  DEL → LKO → BOM → COK            2   \n",
       "3       IndiGo   Kolkata    Banglore        CCU → NAG → BLR            1   \n",
       "4       IndiGo  Banglore   New Delhi        BLR → NAG → DEL            1   \n",
       "\n",
       "  Additional_Info  Price  Journey_Day  Journey_Month  Dep_Time_Hours  \\\n",
       "0         No info   3897           24              3              22   \n",
       "1         No info   7662            5              1               5   \n",
       "2         No info  13882            6              9               9   \n",
       "3         No info   6218            5             12              18   \n",
       "4         No info  13302            3              1              16   \n",
       "\n",
       "   Dep_Time_Minutes  Arrival_Time_Hours  Arrival_Time_Minutes  Duration_Hours  \\\n",
       "0                20                   1                    10               2   \n",
       "1                50                  13                    15               7   \n",
       "2                25                   4                    25              19   \n",
       "3                 5                  23                    30               5   \n",
       "4                50                  21                    35               4   \n",
       "\n",
       "   Duration_Minutes  \n",
       "0                50  \n",
       "1                25  \n",
       "2                 0  \n",
       "3                25  \n",
       "4                45  "
      ]
     },
     "execution_count": 34,
     "metadata": {},
     "output_type": "execute_result"
    }
   ],
   "source": [
    "train_data.head()"
   ]
  },
  {
   "cell_type": "markdown",
   "metadata": {},
   "source": [
    "### Extract New Features from Route\n",
    "`Route` will be splitted into new features consisting `Route_1` until `Route_5`. Missing values in several Route_n features will be filled None category. "
   ]
  },
  {
   "cell_type": "code",
   "execution_count": 35,
   "metadata": {},
   "outputs": [],
   "source": [
    "train_data['Route_1'] = train_data['Route'].str.split('→').str[0]\n",
    "train_data['Route_2'] = train_data['Route'].str.split('→').str[1]\n",
    "train_data['Route_3'] = train_data['Route'].str.split('→').str[2]\n",
    "train_data['Route_4'] = train_data['Route'].str.split('→').str[3]\n",
    "train_data['Route_5'] = train_data['Route'].str.split('→').str[4]"
   ]
  },
  {
   "cell_type": "code",
   "execution_count": 36,
   "metadata": {},
   "outputs": [
    {
     "data": {
      "text/plain": [
       "Index(['Airline', 'Source', 'Destination', 'Route', 'Total_Stops',\n",
       "       'Additional_Info', 'Price', 'Journey_Day', 'Journey_Month',\n",
       "       'Dep_Time_Hours', 'Dep_Time_Minutes', 'Arrival_Time_Hours',\n",
       "       'Arrival_Time_Minutes', 'Duration_Hours', 'Duration_Minutes', 'Route_1',\n",
       "       'Route_2', 'Route_3', 'Route_4', 'Route_5'],\n",
       "      dtype='object')"
      ]
     },
     "execution_count": 36,
     "metadata": {},
     "output_type": "execute_result"
    }
   ],
   "source": [
    "train_data.columns"
   ]
  },
  {
   "cell_type": "code",
   "execution_count": 37,
   "metadata": {},
   "outputs": [
    {
     "data": {
      "text/html": [
       "<div>\n",
       "<style scoped>\n",
       "    .dataframe tbody tr th:only-of-type {\n",
       "        vertical-align: middle;\n",
       "    }\n",
       "\n",
       "    .dataframe tbody tr th {\n",
       "        vertical-align: top;\n",
       "    }\n",
       "\n",
       "    .dataframe thead th {\n",
       "        text-align: right;\n",
       "    }\n",
       "</style>\n",
       "<table border=\"1\" class=\"dataframe\">\n",
       "  <thead>\n",
       "    <tr style=\"text-align: right;\">\n",
       "      <th></th>\n",
       "      <th>Route_1</th>\n",
       "      <th>Route_2</th>\n",
       "      <th>Route_3</th>\n",
       "      <th>Route_4</th>\n",
       "      <th>Route_5</th>\n",
       "    </tr>\n",
       "  </thead>\n",
       "  <tbody>\n",
       "    <tr>\n",
       "      <th>0</th>\n",
       "      <td>BLR</td>\n",
       "      <td>DEL</td>\n",
       "      <td>NaN</td>\n",
       "      <td>NaN</td>\n",
       "      <td>NaN</td>\n",
       "    </tr>\n",
       "    <tr>\n",
       "      <th>1</th>\n",
       "      <td>CCU</td>\n",
       "      <td>IXR</td>\n",
       "      <td>BBI</td>\n",
       "      <td>BLR</td>\n",
       "      <td>NaN</td>\n",
       "    </tr>\n",
       "    <tr>\n",
       "      <th>2</th>\n",
       "      <td>DEL</td>\n",
       "      <td>LKO</td>\n",
       "      <td>BOM</td>\n",
       "      <td>COK</td>\n",
       "      <td>NaN</td>\n",
       "    </tr>\n",
       "    <tr>\n",
       "      <th>3</th>\n",
       "      <td>CCU</td>\n",
       "      <td>NAG</td>\n",
       "      <td>BLR</td>\n",
       "      <td>NaN</td>\n",
       "      <td>NaN</td>\n",
       "    </tr>\n",
       "    <tr>\n",
       "      <th>4</th>\n",
       "      <td>BLR</td>\n",
       "      <td>NAG</td>\n",
       "      <td>DEL</td>\n",
       "      <td>NaN</td>\n",
       "      <td>NaN</td>\n",
       "    </tr>\n",
       "    <tr>\n",
       "      <th>...</th>\n",
       "      <td>...</td>\n",
       "      <td>...</td>\n",
       "      <td>...</td>\n",
       "      <td>...</td>\n",
       "      <td>...</td>\n",
       "    </tr>\n",
       "    <tr>\n",
       "      <th>10678</th>\n",
       "      <td>CCU</td>\n",
       "      <td>BLR</td>\n",
       "      <td>NaN</td>\n",
       "      <td>NaN</td>\n",
       "      <td>NaN</td>\n",
       "    </tr>\n",
       "    <tr>\n",
       "      <th>10679</th>\n",
       "      <td>CCU</td>\n",
       "      <td>BLR</td>\n",
       "      <td>NaN</td>\n",
       "      <td>NaN</td>\n",
       "      <td>NaN</td>\n",
       "    </tr>\n",
       "    <tr>\n",
       "      <th>10680</th>\n",
       "      <td>BLR</td>\n",
       "      <td>DEL</td>\n",
       "      <td>NaN</td>\n",
       "      <td>NaN</td>\n",
       "      <td>NaN</td>\n",
       "    </tr>\n",
       "    <tr>\n",
       "      <th>10681</th>\n",
       "      <td>BLR</td>\n",
       "      <td>DEL</td>\n",
       "      <td>NaN</td>\n",
       "      <td>NaN</td>\n",
       "      <td>NaN</td>\n",
       "    </tr>\n",
       "    <tr>\n",
       "      <th>10682</th>\n",
       "      <td>DEL</td>\n",
       "      <td>GOI</td>\n",
       "      <td>BOM</td>\n",
       "      <td>COK</td>\n",
       "      <td>NaN</td>\n",
       "    </tr>\n",
       "  </tbody>\n",
       "</table>\n",
       "<p>10682 rows × 5 columns</p>\n",
       "</div>"
      ],
      "text/plain": [
       "      Route_1 Route_2 Route_3 Route_4 Route_5\n",
       "0        BLR      DEL     NaN     NaN     NaN\n",
       "1        CCU     IXR     BBI      BLR     NaN\n",
       "2        DEL     LKO     BOM      COK     NaN\n",
       "3        CCU     NAG      BLR     NaN     NaN\n",
       "4        BLR     NAG      DEL     NaN     NaN\n",
       "...       ...     ...     ...     ...     ...\n",
       "10678    CCU      BLR     NaN     NaN     NaN\n",
       "10679    CCU      BLR     NaN     NaN     NaN\n",
       "10680    BLR      DEL     NaN     NaN     NaN\n",
       "10681    BLR      DEL     NaN     NaN     NaN\n",
       "10682    DEL     GOI     BOM      COK     NaN\n",
       "\n",
       "[10682 rows x 5 columns]"
      ]
     },
     "execution_count": 37,
     "metadata": {},
     "output_type": "execute_result"
    }
   ],
   "source": [
    "train_data[['Route_1', 'Route_2', 'Route_3', 'Route_4', 'Route_5']]"
   ]
  },
  {
   "cell_type": "code",
   "execution_count": 38,
   "metadata": {},
   "outputs": [
    {
     "data": {
      "text/plain": [
       "Route_1        0\n",
       "Route_2        0\n",
       "Route_3     3491\n",
       "Route_4     9116\n",
       "Route_5    10636\n",
       "dtype: int64"
      ]
     },
     "execution_count": 38,
     "metadata": {},
     "output_type": "execute_result"
    }
   ],
   "source": [
    "train_data[['Route_1', 'Route_2', 'Route_3', 'Route_4', 'Route_5']].isna().sum()"
   ]
  },
  {
   "cell_type": "code",
   "execution_count": 39,
   "metadata": {},
   "outputs": [],
   "source": [
    "for col in ['Route_3', 'Route_4', 'Route_5'] :\n",
    "    train_data[col] = train_data[col].fillna('None')"
   ]
  },
  {
   "cell_type": "code",
   "execution_count": 40,
   "metadata": {},
   "outputs": [],
   "source": [
    "train_data.drop('Route', axis=1, inplace=True)"
   ]
  },
  {
   "cell_type": "markdown",
   "metadata": {},
   "source": [
    "### Remove Unnecesary Feature"
   ]
  },
  {
   "cell_type": "markdown",
   "metadata": {},
   "source": [
    "`Additional_Info` contains many No info value reflecting as mising value (NaN). Bacause the proportion is more than 50%, we can drop this feature. "
   ]
  },
  {
   "cell_type": "code",
   "execution_count": 41,
   "metadata": {},
   "outputs": [
    {
     "data": {
      "text/html": [
       "<div>\n",
       "<style scoped>\n",
       "    .dataframe tbody tr th:only-of-type {\n",
       "        vertical-align: middle;\n",
       "    }\n",
       "\n",
       "    .dataframe tbody tr th {\n",
       "        vertical-align: top;\n",
       "    }\n",
       "\n",
       "    .dataframe thead th {\n",
       "        text-align: right;\n",
       "    }\n",
       "</style>\n",
       "<table border=\"1\" class=\"dataframe\">\n",
       "  <thead>\n",
       "    <tr style=\"text-align: right;\">\n",
       "      <th></th>\n",
       "      <th>Airline</th>\n",
       "      <th>Source</th>\n",
       "      <th>Destination</th>\n",
       "      <th>Total_Stops</th>\n",
       "      <th>Additional_Info</th>\n",
       "      <th>Price</th>\n",
       "      <th>Journey_Day</th>\n",
       "      <th>Journey_Month</th>\n",
       "      <th>Dep_Time_Hours</th>\n",
       "      <th>Dep_Time_Minutes</th>\n",
       "      <th>Arrival_Time_Hours</th>\n",
       "      <th>Arrival_Time_Minutes</th>\n",
       "      <th>Duration_Hours</th>\n",
       "      <th>Duration_Minutes</th>\n",
       "      <th>Route_1</th>\n",
       "      <th>Route_2</th>\n",
       "      <th>Route_3</th>\n",
       "      <th>Route_4</th>\n",
       "      <th>Route_5</th>\n",
       "    </tr>\n",
       "  </thead>\n",
       "  <tbody>\n",
       "    <tr>\n",
       "      <th>0</th>\n",
       "      <td>IndiGo</td>\n",
       "      <td>Banglore</td>\n",
       "      <td>New Delhi</td>\n",
       "      <td>0</td>\n",
       "      <td>No info</td>\n",
       "      <td>3897</td>\n",
       "      <td>24</td>\n",
       "      <td>3</td>\n",
       "      <td>22</td>\n",
       "      <td>20</td>\n",
       "      <td>1</td>\n",
       "      <td>10</td>\n",
       "      <td>2</td>\n",
       "      <td>50</td>\n",
       "      <td>BLR</td>\n",
       "      <td>DEL</td>\n",
       "      <td>None</td>\n",
       "      <td>None</td>\n",
       "      <td>None</td>\n",
       "    </tr>\n",
       "    <tr>\n",
       "      <th>1</th>\n",
       "      <td>Air India</td>\n",
       "      <td>Kolkata</td>\n",
       "      <td>Banglore</td>\n",
       "      <td>2</td>\n",
       "      <td>No info</td>\n",
       "      <td>7662</td>\n",
       "      <td>5</td>\n",
       "      <td>1</td>\n",
       "      <td>5</td>\n",
       "      <td>50</td>\n",
       "      <td>13</td>\n",
       "      <td>15</td>\n",
       "      <td>7</td>\n",
       "      <td>25</td>\n",
       "      <td>CCU</td>\n",
       "      <td>IXR</td>\n",
       "      <td>BBI</td>\n",
       "      <td>BLR</td>\n",
       "      <td>None</td>\n",
       "    </tr>\n",
       "    <tr>\n",
       "      <th>2</th>\n",
       "      <td>Jet Airways</td>\n",
       "      <td>Delhi</td>\n",
       "      <td>Cochin</td>\n",
       "      <td>2</td>\n",
       "      <td>No info</td>\n",
       "      <td>13882</td>\n",
       "      <td>6</td>\n",
       "      <td>9</td>\n",
       "      <td>9</td>\n",
       "      <td>25</td>\n",
       "      <td>4</td>\n",
       "      <td>25</td>\n",
       "      <td>19</td>\n",
       "      <td>0</td>\n",
       "      <td>DEL</td>\n",
       "      <td>LKO</td>\n",
       "      <td>BOM</td>\n",
       "      <td>COK</td>\n",
       "      <td>None</td>\n",
       "    </tr>\n",
       "    <tr>\n",
       "      <th>3</th>\n",
       "      <td>IndiGo</td>\n",
       "      <td>Kolkata</td>\n",
       "      <td>Banglore</td>\n",
       "      <td>1</td>\n",
       "      <td>No info</td>\n",
       "      <td>6218</td>\n",
       "      <td>5</td>\n",
       "      <td>12</td>\n",
       "      <td>18</td>\n",
       "      <td>5</td>\n",
       "      <td>23</td>\n",
       "      <td>30</td>\n",
       "      <td>5</td>\n",
       "      <td>25</td>\n",
       "      <td>CCU</td>\n",
       "      <td>NAG</td>\n",
       "      <td>BLR</td>\n",
       "      <td>None</td>\n",
       "      <td>None</td>\n",
       "    </tr>\n",
       "    <tr>\n",
       "      <th>4</th>\n",
       "      <td>IndiGo</td>\n",
       "      <td>Banglore</td>\n",
       "      <td>New Delhi</td>\n",
       "      <td>1</td>\n",
       "      <td>No info</td>\n",
       "      <td>13302</td>\n",
       "      <td>3</td>\n",
       "      <td>1</td>\n",
       "      <td>16</td>\n",
       "      <td>50</td>\n",
       "      <td>21</td>\n",
       "      <td>35</td>\n",
       "      <td>4</td>\n",
       "      <td>45</td>\n",
       "      <td>BLR</td>\n",
       "      <td>NAG</td>\n",
       "      <td>DEL</td>\n",
       "      <td>None</td>\n",
       "      <td>None</td>\n",
       "    </tr>\n",
       "  </tbody>\n",
       "</table>\n",
       "</div>"
      ],
      "text/plain": [
       "       Airline    Source Destination  Total_Stops Additional_Info  Price  \\\n",
       "0       IndiGo  Banglore   New Delhi            0         No info   3897   \n",
       "1    Air India   Kolkata    Banglore            2         No info   7662   \n",
       "2  Jet Airways     Delhi      Cochin            2         No info  13882   \n",
       "3       IndiGo   Kolkata    Banglore            1         No info   6218   \n",
       "4       IndiGo  Banglore   New Delhi            1         No info  13302   \n",
       "\n",
       "   Journey_Day  Journey_Month  Dep_Time_Hours  Dep_Time_Minutes  \\\n",
       "0           24              3              22                20   \n",
       "1            5              1               5                50   \n",
       "2            6              9               9                25   \n",
       "3            5             12              18                 5   \n",
       "4            3              1              16                50   \n",
       "\n",
       "   Arrival_Time_Hours  Arrival_Time_Minutes  Duration_Hours  Duration_Minutes  \\\n",
       "0                   1                    10               2                50   \n",
       "1                  13                    15               7                25   \n",
       "2                   4                    25              19                 0   \n",
       "3                  23                    30               5                25   \n",
       "4                  21                    35               4                45   \n",
       "\n",
       "  Route_1 Route_2 Route_3 Route_4 Route_5  \n",
       "0    BLR      DEL    None    None    None  \n",
       "1    CCU     IXR     BBI      BLR    None  \n",
       "2    DEL     LKO     BOM      COK    None  \n",
       "3    CCU     NAG      BLR    None    None  \n",
       "4    BLR     NAG      DEL    None    None  "
      ]
     },
     "execution_count": 41,
     "metadata": {},
     "output_type": "execute_result"
    }
   ],
   "source": [
    "train_data.head()"
   ]
  },
  {
   "cell_type": "code",
   "execution_count": 42,
   "metadata": {},
   "outputs": [
    {
     "data": {
      "text/plain": [
       "No info                         0.781127\n",
       "In-flight meal not included     0.185546\n",
       "No check-in baggage included    0.029957\n",
       "1 Long layover                  0.001779\n",
       "Change airports                 0.000655\n",
       "Business class                  0.000374\n",
       "No Info                         0.000281\n",
       "Red-eye flight                  0.000094\n",
       "2 Long layover                  0.000094\n",
       "1 Short layover                 0.000094\n",
       "Name: Additional_Info, dtype: float64"
      ]
     },
     "execution_count": 42,
     "metadata": {},
     "output_type": "execute_result"
    }
   ],
   "source": [
    "train_data['Additional_Info'].value_counts(normalize=True)"
   ]
  },
  {
   "cell_type": "code",
   "execution_count": 43,
   "metadata": {},
   "outputs": [],
   "source": [
    "train_data.drop('Additional_Info', axis=1, inplace=True)"
   ]
  },
  {
   "cell_type": "code",
   "execution_count": 44,
   "metadata": {},
   "outputs": [
    {
     "data": {
      "text/html": [
       "<div>\n",
       "<style scoped>\n",
       "    .dataframe tbody tr th:only-of-type {\n",
       "        vertical-align: middle;\n",
       "    }\n",
       "\n",
       "    .dataframe tbody tr th {\n",
       "        vertical-align: top;\n",
       "    }\n",
       "\n",
       "    .dataframe thead th {\n",
       "        text-align: right;\n",
       "    }\n",
       "</style>\n",
       "<table border=\"1\" class=\"dataframe\">\n",
       "  <thead>\n",
       "    <tr style=\"text-align: right;\">\n",
       "      <th></th>\n",
       "      <th>Airline</th>\n",
       "      <th>Source</th>\n",
       "      <th>Destination</th>\n",
       "      <th>Total_Stops</th>\n",
       "      <th>Price</th>\n",
       "      <th>Journey_Day</th>\n",
       "      <th>Journey_Month</th>\n",
       "      <th>Dep_Time_Hours</th>\n",
       "      <th>Dep_Time_Minutes</th>\n",
       "      <th>Arrival_Time_Hours</th>\n",
       "      <th>Arrival_Time_Minutes</th>\n",
       "      <th>Duration_Hours</th>\n",
       "      <th>Duration_Minutes</th>\n",
       "      <th>Route_1</th>\n",
       "      <th>Route_2</th>\n",
       "      <th>Route_3</th>\n",
       "      <th>Route_4</th>\n",
       "      <th>Route_5</th>\n",
       "    </tr>\n",
       "  </thead>\n",
       "  <tbody>\n",
       "    <tr>\n",
       "      <th>0</th>\n",
       "      <td>IndiGo</td>\n",
       "      <td>Banglore</td>\n",
       "      <td>New Delhi</td>\n",
       "      <td>0</td>\n",
       "      <td>3897</td>\n",
       "      <td>24</td>\n",
       "      <td>3</td>\n",
       "      <td>22</td>\n",
       "      <td>20</td>\n",
       "      <td>1</td>\n",
       "      <td>10</td>\n",
       "      <td>2</td>\n",
       "      <td>50</td>\n",
       "      <td>BLR</td>\n",
       "      <td>DEL</td>\n",
       "      <td>None</td>\n",
       "      <td>None</td>\n",
       "      <td>None</td>\n",
       "    </tr>\n",
       "    <tr>\n",
       "      <th>1</th>\n",
       "      <td>Air India</td>\n",
       "      <td>Kolkata</td>\n",
       "      <td>Banglore</td>\n",
       "      <td>2</td>\n",
       "      <td>7662</td>\n",
       "      <td>5</td>\n",
       "      <td>1</td>\n",
       "      <td>5</td>\n",
       "      <td>50</td>\n",
       "      <td>13</td>\n",
       "      <td>15</td>\n",
       "      <td>7</td>\n",
       "      <td>25</td>\n",
       "      <td>CCU</td>\n",
       "      <td>IXR</td>\n",
       "      <td>BBI</td>\n",
       "      <td>BLR</td>\n",
       "      <td>None</td>\n",
       "    </tr>\n",
       "    <tr>\n",
       "      <th>2</th>\n",
       "      <td>Jet Airways</td>\n",
       "      <td>Delhi</td>\n",
       "      <td>Cochin</td>\n",
       "      <td>2</td>\n",
       "      <td>13882</td>\n",
       "      <td>6</td>\n",
       "      <td>9</td>\n",
       "      <td>9</td>\n",
       "      <td>25</td>\n",
       "      <td>4</td>\n",
       "      <td>25</td>\n",
       "      <td>19</td>\n",
       "      <td>0</td>\n",
       "      <td>DEL</td>\n",
       "      <td>LKO</td>\n",
       "      <td>BOM</td>\n",
       "      <td>COK</td>\n",
       "      <td>None</td>\n",
       "    </tr>\n",
       "    <tr>\n",
       "      <th>3</th>\n",
       "      <td>IndiGo</td>\n",
       "      <td>Kolkata</td>\n",
       "      <td>Banglore</td>\n",
       "      <td>1</td>\n",
       "      <td>6218</td>\n",
       "      <td>5</td>\n",
       "      <td>12</td>\n",
       "      <td>18</td>\n",
       "      <td>5</td>\n",
       "      <td>23</td>\n",
       "      <td>30</td>\n",
       "      <td>5</td>\n",
       "      <td>25</td>\n",
       "      <td>CCU</td>\n",
       "      <td>NAG</td>\n",
       "      <td>BLR</td>\n",
       "      <td>None</td>\n",
       "      <td>None</td>\n",
       "    </tr>\n",
       "    <tr>\n",
       "      <th>4</th>\n",
       "      <td>IndiGo</td>\n",
       "      <td>Banglore</td>\n",
       "      <td>New Delhi</td>\n",
       "      <td>1</td>\n",
       "      <td>13302</td>\n",
       "      <td>3</td>\n",
       "      <td>1</td>\n",
       "      <td>16</td>\n",
       "      <td>50</td>\n",
       "      <td>21</td>\n",
       "      <td>35</td>\n",
       "      <td>4</td>\n",
       "      <td>45</td>\n",
       "      <td>BLR</td>\n",
       "      <td>NAG</td>\n",
       "      <td>DEL</td>\n",
       "      <td>None</td>\n",
       "      <td>None</td>\n",
       "    </tr>\n",
       "  </tbody>\n",
       "</table>\n",
       "</div>"
      ],
      "text/plain": [
       "       Airline    Source Destination  Total_Stops  Price  Journey_Day  \\\n",
       "0       IndiGo  Banglore   New Delhi            0   3897           24   \n",
       "1    Air India   Kolkata    Banglore            2   7662            5   \n",
       "2  Jet Airways     Delhi      Cochin            2  13882            6   \n",
       "3       IndiGo   Kolkata    Banglore            1   6218            5   \n",
       "4       IndiGo  Banglore   New Delhi            1  13302            3   \n",
       "\n",
       "   Journey_Month  Dep_Time_Hours  Dep_Time_Minutes  Arrival_Time_Hours  \\\n",
       "0              3              22                20                   1   \n",
       "1              1               5                50                  13   \n",
       "2              9               9                25                   4   \n",
       "3             12              18                 5                  23   \n",
       "4              1              16                50                  21   \n",
       "\n",
       "   Arrival_Time_Minutes  Duration_Hours  Duration_Minutes Route_1 Route_2  \\\n",
       "0                    10               2                50    BLR      DEL   \n",
       "1                    15               7                25    CCU     IXR    \n",
       "2                    25              19                 0    DEL     LKO    \n",
       "3                    30               5                25    CCU     NAG    \n",
       "4                    35               4                45    BLR     NAG    \n",
       "\n",
       "  Route_3 Route_4 Route_5  \n",
       "0    None    None    None  \n",
       "1    BBI      BLR    None  \n",
       "2    BOM      COK    None  \n",
       "3     BLR    None    None  \n",
       "4     DEL    None    None  "
      ]
     },
     "execution_count": 44,
     "metadata": {},
     "output_type": "execute_result"
    }
   ],
   "source": [
    "train_data.head()"
   ]
  },
  {
   "cell_type": "markdown",
   "metadata": {},
   "source": [
    "## C. Handling Outliers"
   ]
  },
  {
   "cell_type": "markdown",
   "metadata": {},
   "source": [
    "Outliers can hurt our models performance. To avoid it, I do an analysis on the all numerical feature. Skewed distribution is one of the characteristics that a feature has outliers. I will investigate a feature if it has skewness level more than 1."
   ]
  },
  {
   "cell_type": "code",
   "execution_count": 45,
   "metadata": {
    "scrolled": false
   },
   "outputs": [
    {
     "data": {
      "text/html": [
       "<div>\n",
       "<style scoped>\n",
       "    .dataframe tbody tr th:only-of-type {\n",
       "        vertical-align: middle;\n",
       "    }\n",
       "\n",
       "    .dataframe tbody tr th {\n",
       "        vertical-align: top;\n",
       "    }\n",
       "\n",
       "    .dataframe thead th {\n",
       "        text-align: right;\n",
       "    }\n",
       "</style>\n",
       "<table border=\"1\" class=\"dataframe\">\n",
       "  <thead>\n",
       "    <tr style=\"text-align: right;\">\n",
       "      <th></th>\n",
       "      <th>Total_Stops</th>\n",
       "      <th>Price</th>\n",
       "      <th>Journey_Day</th>\n",
       "      <th>Journey_Month</th>\n",
       "      <th>Dep_Time_Hours</th>\n",
       "      <th>Dep_Time_Minutes</th>\n",
       "      <th>Arrival_Time_Hours</th>\n",
       "      <th>Arrival_Time_Minutes</th>\n",
       "      <th>Duration_Hours</th>\n",
       "      <th>Duration_Minutes</th>\n",
       "    </tr>\n",
       "  </thead>\n",
       "  <tbody>\n",
       "    <tr>\n",
       "      <th>0</th>\n",
       "      <td>0</td>\n",
       "      <td>3897</td>\n",
       "      <td>24</td>\n",
       "      <td>3</td>\n",
       "      <td>22</td>\n",
       "      <td>20</td>\n",
       "      <td>1</td>\n",
       "      <td>10</td>\n",
       "      <td>2</td>\n",
       "      <td>50</td>\n",
       "    </tr>\n",
       "    <tr>\n",
       "      <th>1</th>\n",
       "      <td>2</td>\n",
       "      <td>7662</td>\n",
       "      <td>5</td>\n",
       "      <td>1</td>\n",
       "      <td>5</td>\n",
       "      <td>50</td>\n",
       "      <td>13</td>\n",
       "      <td>15</td>\n",
       "      <td>7</td>\n",
       "      <td>25</td>\n",
       "    </tr>\n",
       "    <tr>\n",
       "      <th>2</th>\n",
       "      <td>2</td>\n",
       "      <td>13882</td>\n",
       "      <td>6</td>\n",
       "      <td>9</td>\n",
       "      <td>9</td>\n",
       "      <td>25</td>\n",
       "      <td>4</td>\n",
       "      <td>25</td>\n",
       "      <td>19</td>\n",
       "      <td>0</td>\n",
       "    </tr>\n",
       "  </tbody>\n",
       "</table>\n",
       "</div>"
      ],
      "text/plain": [
       "   Total_Stops  Price  Journey_Day  Journey_Month  Dep_Time_Hours  \\\n",
       "0            0   3897           24              3              22   \n",
       "1            2   7662            5              1               5   \n",
       "2            2  13882            6              9               9   \n",
       "\n",
       "   Dep_Time_Minutes  Arrival_Time_Hours  Arrival_Time_Minutes  Duration_Hours  \\\n",
       "0                20                   1                    10               2   \n",
       "1                50                  13                    15               7   \n",
       "2                25                   4                    25              19   \n",
       "\n",
       "   Duration_Minutes  \n",
       "0                50  \n",
       "1                25  \n",
       "2                 0  "
      ]
     },
     "execution_count": 45,
     "metadata": {},
     "output_type": "execute_result"
    }
   ],
   "source": [
    "num_cols = train_data.select_dtypes('number').columns\n",
    "train_data[num_cols].head(3)"
   ]
  },
  {
   "cell_type": "code",
   "execution_count": 46,
   "metadata": {
    "scrolled": true
   },
   "outputs": [
    {
     "data": {
      "text/plain": [
       "Total_Stops             0.317109\n",
       "Price                   1.812405\n",
       "Journey_Day             0.367212\n",
       "Journey_Month           0.629556\n",
       "Dep_Time_Hours          0.112924\n",
       "Dep_Time_Minutes        0.167234\n",
       "Arrival_Time_Hours     -0.370146\n",
       "Arrival_Time_Minutes    0.110945\n",
       "Duration_Hours          0.851197\n",
       "Duration_Minutes       -0.090680\n",
       "dtype: float64"
      ]
     },
     "execution_count": 46,
     "metadata": {},
     "output_type": "execute_result"
    }
   ],
   "source": [
    "train_data[num_cols].skew()"
   ]
  },
  {
   "cell_type": "markdown",
   "metadata": {},
   "source": [
    "Based on skewness level of each numerical feature above, we can see that only `Price` feature that has skewness level more than 1. So, let's investigate further about the distribution for this feature."
   ]
  },
  {
   "cell_type": "code",
   "execution_count": 47,
   "metadata": {
    "scrolled": false
   },
   "outputs": [
    {
     "data": {
      "image/png": "[encoded data removed]",
      "text/plain": [
       "<Figure size 1080x288 with 2 Axes>"
      ]
     },
     "metadata": {
      "needs_background": "light"
     },
     "output_type": "display_data"
    }
   ],
   "source": [
    "plt.figure(figsize=(15, 4))\n",
    "\n",
    "plt.subplot(1, 2, 1)\n",
    "sns.histplot(train_data['Price'], kde=True, color='teal', stat='count', element='step')\n",
    "\n",
    "plt.subplot(1, 2, 2)\n",
    "sns.boxplot(x='Price', data=train_data, color='teal')\n",
    "\n",
    "plt.show()"
   ]
  },
  {
   "cell_type": "code",
   "execution_count": 48,
   "metadata": {
    "scrolled": false
   },
   "outputs": [
    {
     "data": {
      "text/html": [
       "<div>\n",
       "<style scoped>\n",
       "    .dataframe tbody tr th:only-of-type {\n",
       "        vertical-align: middle;\n",
       "    }\n",
       "\n",
       "    .dataframe tbody tr th {\n",
       "        vertical-align: top;\n",
       "    }\n",
       "\n",
       "    .dataframe thead th {\n",
       "        text-align: right;\n",
       "    }\n",
       "</style>\n",
       "<table border=\"1\" class=\"dataframe\">\n",
       "  <thead>\n",
       "    <tr style=\"text-align: right;\">\n",
       "      <th></th>\n",
       "      <th>Airline</th>\n",
       "      <th>Source</th>\n",
       "      <th>Destination</th>\n",
       "      <th>Total_Stops</th>\n",
       "      <th>Price</th>\n",
       "      <th>Journey_Day</th>\n",
       "      <th>Journey_Month</th>\n",
       "      <th>Dep_Time_Hours</th>\n",
       "      <th>Dep_Time_Minutes</th>\n",
       "      <th>Arrival_Time_Hours</th>\n",
       "      <th>Arrival_Time_Minutes</th>\n",
       "      <th>Duration_Hours</th>\n",
       "      <th>Duration_Minutes</th>\n",
       "      <th>Route_1</th>\n",
       "      <th>Route_2</th>\n",
       "      <th>Route_3</th>\n",
       "      <th>Route_4</th>\n",
       "      <th>Route_5</th>\n",
       "    </tr>\n",
       "  </thead>\n",
       "  <tbody>\n",
       "    <tr>\n",
       "      <th>657</th>\n",
       "      <td>Jet Airways Business</td>\n",
       "      <td>Banglore</td>\n",
       "      <td>New Delhi</td>\n",
       "      <td>1</td>\n",
       "      <td>52229</td>\n",
       "      <td>3</td>\n",
       "      <td>1</td>\n",
       "      <td>5</td>\n",
       "      <td>45</td>\n",
       "      <td>10</td>\n",
       "      <td>45</td>\n",
       "      <td>5</td>\n",
       "      <td>0</td>\n",
       "      <td>BLR</td>\n",
       "      <td>BOM</td>\n",
       "      <td>DEL</td>\n",
       "      <td>None</td>\n",
       "      <td>None</td>\n",
       "    </tr>\n",
       "    <tr>\n",
       "      <th>1478</th>\n",
       "      <td>Jet Airways</td>\n",
       "      <td>Banglore</td>\n",
       "      <td>New Delhi</td>\n",
       "      <td>1</td>\n",
       "      <td>54826</td>\n",
       "      <td>18</td>\n",
       "      <td>3</td>\n",
       "      <td>18</td>\n",
       "      <td>40</td>\n",
       "      <td>0</td>\n",
       "      <td>45</td>\n",
       "      <td>6</td>\n",
       "      <td>5</td>\n",
       "      <td>BLR</td>\n",
       "      <td>BOM</td>\n",
       "      <td>DEL</td>\n",
       "      <td>None</td>\n",
       "      <td>None</td>\n",
       "    </tr>\n",
       "    <tr>\n",
       "      <th>2618</th>\n",
       "      <td>Jet Airways</td>\n",
       "      <td>Banglore</td>\n",
       "      <td>New Delhi</td>\n",
       "      <td>1</td>\n",
       "      <td>54826</td>\n",
       "      <td>18</td>\n",
       "      <td>3</td>\n",
       "      <td>22</td>\n",
       "      <td>50</td>\n",
       "      <td>5</td>\n",
       "      <td>5</td>\n",
       "      <td>6</td>\n",
       "      <td>15</td>\n",
       "      <td>BLR</td>\n",
       "      <td>BOM</td>\n",
       "      <td>DEL</td>\n",
       "      <td>None</td>\n",
       "      <td>None</td>\n",
       "    </tr>\n",
       "    <tr>\n",
       "      <th>2924</th>\n",
       "      <td>Jet Airways Business</td>\n",
       "      <td>Banglore</td>\n",
       "      <td>New Delhi</td>\n",
       "      <td>1</td>\n",
       "      <td>79512</td>\n",
       "      <td>3</td>\n",
       "      <td>1</td>\n",
       "      <td>5</td>\n",
       "      <td>45</td>\n",
       "      <td>11</td>\n",
       "      <td>25</td>\n",
       "      <td>5</td>\n",
       "      <td>40</td>\n",
       "      <td>BLR</td>\n",
       "      <td>BOM</td>\n",
       "      <td>DEL</td>\n",
       "      <td>None</td>\n",
       "      <td>None</td>\n",
       "    </tr>\n",
       "    <tr>\n",
       "      <th>5372</th>\n",
       "      <td>Jet Airways Business</td>\n",
       "      <td>Banglore</td>\n",
       "      <td>New Delhi</td>\n",
       "      <td>1</td>\n",
       "      <td>62427</td>\n",
       "      <td>3</td>\n",
       "      <td>1</td>\n",
       "      <td>5</td>\n",
       "      <td>45</td>\n",
       "      <td>12</td>\n",
       "      <td>25</td>\n",
       "      <td>6</td>\n",
       "      <td>40</td>\n",
       "      <td>BLR</td>\n",
       "      <td>BOM</td>\n",
       "      <td>DEL</td>\n",
       "      <td>None</td>\n",
       "      <td>None</td>\n",
       "    </tr>\n",
       "    <tr>\n",
       "      <th>5439</th>\n",
       "      <td>Jet Airways</td>\n",
       "      <td>Banglore</td>\n",
       "      <td>New Delhi</td>\n",
       "      <td>1</td>\n",
       "      <td>54826</td>\n",
       "      <td>3</td>\n",
       "      <td>1</td>\n",
       "      <td>16</td>\n",
       "      <td>55</td>\n",
       "      <td>23</td>\n",
       "      <td>0</td>\n",
       "      <td>6</td>\n",
       "      <td>5</td>\n",
       "      <td>BLR</td>\n",
       "      <td>BOM</td>\n",
       "      <td>DEL</td>\n",
       "      <td>None</td>\n",
       "      <td>None</td>\n",
       "    </tr>\n",
       "    <tr>\n",
       "      <th>7351</th>\n",
       "      <td>Jet Airways Business</td>\n",
       "      <td>Delhi</td>\n",
       "      <td>Cochin</td>\n",
       "      <td>2</td>\n",
       "      <td>46490</td>\n",
       "      <td>3</td>\n",
       "      <td>3</td>\n",
       "      <td>20</td>\n",
       "      <td>5</td>\n",
       "      <td>4</td>\n",
       "      <td>25</td>\n",
       "      <td>8</td>\n",
       "      <td>20</td>\n",
       "      <td>DEL</td>\n",
       "      <td>ATQ</td>\n",
       "      <td>BOM</td>\n",
       "      <td>COK</td>\n",
       "      <td>None</td>\n",
       "    </tr>\n",
       "    <tr>\n",
       "      <th>9715</th>\n",
       "      <td>Jet Airways Business</td>\n",
       "      <td>Delhi</td>\n",
       "      <td>Cochin</td>\n",
       "      <td>2</td>\n",
       "      <td>52285</td>\n",
       "      <td>3</td>\n",
       "      <td>6</td>\n",
       "      <td>20</td>\n",
       "      <td>5</td>\n",
       "      <td>4</td>\n",
       "      <td>25</td>\n",
       "      <td>8</td>\n",
       "      <td>20</td>\n",
       "      <td>DEL</td>\n",
       "      <td>ATQ</td>\n",
       "      <td>BOM</td>\n",
       "      <td>COK</td>\n",
       "      <td>None</td>\n",
       "    </tr>\n",
       "    <tr>\n",
       "      <th>10364</th>\n",
       "      <td>Jet Airways Business</td>\n",
       "      <td>Banglore</td>\n",
       "      <td>New Delhi</td>\n",
       "      <td>1</td>\n",
       "      <td>57209</td>\n",
       "      <td>3</td>\n",
       "      <td>1</td>\n",
       "      <td>9</td>\n",
       "      <td>45</td>\n",
       "      <td>14</td>\n",
       "      <td>25</td>\n",
       "      <td>4</td>\n",
       "      <td>40</td>\n",
       "      <td>BLR</td>\n",
       "      <td>MAA</td>\n",
       "      <td>DEL</td>\n",
       "      <td>None</td>\n",
       "      <td>None</td>\n",
       "    </tr>\n",
       "  </tbody>\n",
       "</table>\n",
       "</div>"
      ],
      "text/plain": [
       "                    Airline    Source Destination  Total_Stops  Price  \\\n",
       "657    Jet Airways Business  Banglore   New Delhi            1  52229   \n",
       "1478            Jet Airways  Banglore   New Delhi            1  54826   \n",
       "2618            Jet Airways  Banglore   New Delhi            1  54826   \n",
       "2924   Jet Airways Business  Banglore   New Delhi            1  79512   \n",
       "5372   Jet Airways Business  Banglore   New Delhi            1  62427   \n",
       "5439            Jet Airways  Banglore   New Delhi            1  54826   \n",
       "7351   Jet Airways Business     Delhi      Cochin            2  46490   \n",
       "9715   Jet Airways Business     Delhi      Cochin            2  52285   \n",
       "10364  Jet Airways Business  Banglore   New Delhi            1  57209   \n",
       "\n",
       "       Journey_Day  Journey_Month  Dep_Time_Hours  Dep_Time_Minutes  \\\n",
       "657              3              1               5                45   \n",
       "1478            18              3              18                40   \n",
       "2618            18              3              22                50   \n",
       "2924             3              1               5                45   \n",
       "5372             3              1               5                45   \n",
       "5439             3              1              16                55   \n",
       "7351             3              3              20                 5   \n",
       "9715             3              6              20                 5   \n",
       "10364            3              1               9                45   \n",
       "\n",
       "       Arrival_Time_Hours  Arrival_Time_Minutes  Duration_Hours  \\\n",
       "657                    10                    45               5   \n",
       "1478                    0                    45               6   \n",
       "2618                    5                     5               6   \n",
       "2924                   11                    25               5   \n",
       "5372                   12                    25               6   \n",
       "5439                   23                     0               6   \n",
       "7351                    4                    25               8   \n",
       "9715                    4                    25               8   \n",
       "10364                  14                    25               4   \n",
       "\n",
       "       Duration_Minutes Route_1 Route_2 Route_3 Route_4 Route_5  \n",
       "657                   0    BLR     BOM      DEL    None    None  \n",
       "1478                  5    BLR     BOM      DEL    None    None  \n",
       "2618                 15    BLR     BOM      DEL    None    None  \n",
       "2924                 40    BLR     BOM      DEL    None    None  \n",
       "5372                 40    BLR     BOM      DEL    None    None  \n",
       "5439                  5    BLR     BOM      DEL    None    None  \n",
       "7351                 20    DEL     ATQ     BOM      COK    None  \n",
       "9715                 20    DEL     ATQ     BOM      COK    None  \n",
       "10364                40    BLR     MAA      DEL    None    None  "
      ]
     },
     "execution_count": 48,
     "metadata": {},
     "output_type": "execute_result"
    }
   ],
   "source": [
    "train_data[train_data['Price'] > 40000]"
   ]
  },
  {
   "cell_type": "code",
   "execution_count": 49,
   "metadata": {
    "scrolled": false
   },
   "outputs": [
    {
     "data": {
      "image/png": "[encoded data removed]",
      "text/plain": [
       "<Figure size 1440x576 with 1 Axes>"
      ]
     },
     "metadata": {
      "needs_background": "light"
     },
     "output_type": "display_data"
    }
   ],
   "source": [
    "plt.figure(figsize=(20,8))\n",
    "sns.boxplot(x='Airline', y='Price', data=train_data, palette='crest')\n",
    "plt.xticks(rotation=30)\n",
    "plt.show()"
   ]
  },
  {
   "cell_type": "markdown",
   "metadata": {},
   "source": [
    "As shown on the table above, the data that have price over 40000 are from Jet Airways Business Airline and Jet Airways Airline. But, I assume that the Jet Airways Business Airline prices are not wrong data. Because based on the price distribution each airline on the boxplot above, the Jet Airways Business Airline has the highest price distribution. So, let's continue to check the price distribution of Jet Airways Airline."
   ]
  },
  {
   "cell_type": "code",
   "execution_count": 50,
   "metadata": {
    "scrolled": false
   },
   "outputs": [
    {
     "data": {
      "text/html": [
       "<div>\n",
       "<style scoped>\n",
       "    .dataframe tbody tr th:only-of-type {\n",
       "        vertical-align: middle;\n",
       "    }\n",
       "\n",
       "    .dataframe tbody tr th {\n",
       "        vertical-align: top;\n",
       "    }\n",
       "\n",
       "    .dataframe thead th {\n",
       "        text-align: right;\n",
       "    }\n",
       "</style>\n",
       "<table border=\"1\" class=\"dataframe\">\n",
       "  <thead>\n",
       "    <tr style=\"text-align: right;\">\n",
       "      <th></th>\n",
       "      <th>Airline</th>\n",
       "      <th>Source</th>\n",
       "      <th>Destination</th>\n",
       "      <th>Total_Stops</th>\n",
       "      <th>Price</th>\n",
       "      <th>Journey_Day</th>\n",
       "      <th>Journey_Month</th>\n",
       "      <th>Dep_Time_Hours</th>\n",
       "      <th>Dep_Time_Minutes</th>\n",
       "      <th>Arrival_Time_Hours</th>\n",
       "      <th>Arrival_Time_Minutes</th>\n",
       "      <th>Duration_Hours</th>\n",
       "      <th>Duration_Minutes</th>\n",
       "      <th>Route_1</th>\n",
       "      <th>Route_2</th>\n",
       "      <th>Route_3</th>\n",
       "      <th>Route_4</th>\n",
       "      <th>Route_5</th>\n",
       "    </tr>\n",
       "  </thead>\n",
       "  <tbody>\n",
       "    <tr>\n",
       "      <th>1478</th>\n",
       "      <td>Jet Airways</td>\n",
       "      <td>Banglore</td>\n",
       "      <td>New Delhi</td>\n",
       "      <td>1</td>\n",
       "      <td>54826</td>\n",
       "      <td>18</td>\n",
       "      <td>3</td>\n",
       "      <td>18</td>\n",
       "      <td>40</td>\n",
       "      <td>0</td>\n",
       "      <td>45</td>\n",
       "      <td>6</td>\n",
       "      <td>5</td>\n",
       "      <td>BLR</td>\n",
       "      <td>BOM</td>\n",
       "      <td>DEL</td>\n",
       "      <td>None</td>\n",
       "      <td>None</td>\n",
       "    </tr>\n",
       "    <tr>\n",
       "      <th>2618</th>\n",
       "      <td>Jet Airways</td>\n",
       "      <td>Banglore</td>\n",
       "      <td>New Delhi</td>\n",
       "      <td>1</td>\n",
       "      <td>54826</td>\n",
       "      <td>18</td>\n",
       "      <td>3</td>\n",
       "      <td>22</td>\n",
       "      <td>50</td>\n",
       "      <td>5</td>\n",
       "      <td>5</td>\n",
       "      <td>6</td>\n",
       "      <td>15</td>\n",
       "      <td>BLR</td>\n",
       "      <td>BOM</td>\n",
       "      <td>DEL</td>\n",
       "      <td>None</td>\n",
       "      <td>None</td>\n",
       "    </tr>\n",
       "    <tr>\n",
       "      <th>5439</th>\n",
       "      <td>Jet Airways</td>\n",
       "      <td>Banglore</td>\n",
       "      <td>New Delhi</td>\n",
       "      <td>1</td>\n",
       "      <td>54826</td>\n",
       "      <td>3</td>\n",
       "      <td>1</td>\n",
       "      <td>16</td>\n",
       "      <td>55</td>\n",
       "      <td>23</td>\n",
       "      <td>0</td>\n",
       "      <td>6</td>\n",
       "      <td>5</td>\n",
       "      <td>BLR</td>\n",
       "      <td>BOM</td>\n",
       "      <td>DEL</td>\n",
       "      <td>None</td>\n",
       "      <td>None</td>\n",
       "    </tr>\n",
       "  </tbody>\n",
       "</table>\n",
       "</div>"
      ],
      "text/plain": [
       "          Airline    Source Destination  Total_Stops  Price  Journey_Day  \\\n",
       "1478  Jet Airways  Banglore   New Delhi            1  54826           18   \n",
       "2618  Jet Airways  Banglore   New Delhi            1  54826           18   \n",
       "5439  Jet Airways  Banglore   New Delhi            1  54826            3   \n",
       "\n",
       "      Journey_Month  Dep_Time_Hours  Dep_Time_Minutes  Arrival_Time_Hours  \\\n",
       "1478              3              18                40                   0   \n",
       "2618              3              22                50                   5   \n",
       "5439              1              16                55                  23   \n",
       "\n",
       "      Arrival_Time_Minutes  Duration_Hours  Duration_Minutes Route_1 Route_2  \\\n",
       "1478                    45               6                 5    BLR     BOM    \n",
       "2618                     5               6                15    BLR     BOM    \n",
       "5439                     0               6                 5    BLR     BOM    \n",
       "\n",
       "     Route_3 Route_4 Route_5  \n",
       "1478     DEL    None    None  \n",
       "2618     DEL    None    None  \n",
       "5439     DEL    None    None  "
      ]
     },
     "execution_count": 50,
     "metadata": {},
     "output_type": "execute_result"
    }
   ],
   "source": [
    "train_data[(train_data['Price'] > 40000) & (train_data['Airline'] == 'Jet Airways')]"
   ]
  },
  {
   "cell_type": "markdown",
   "metadata": {},
   "source": [
    "Based on table above, we can see that the data that has the price above 40000 and the airline is Jet Airways have similar values on the several features, like `Source`, `Destination`, and `Duration_Hours`. Then, let's check all data that have those similar features."
   ]
  },
  {
   "cell_type": "code",
   "execution_count": 51,
   "metadata": {},
   "outputs": [
    {
     "data": {
      "image/png": "[encoded data removed]",
      "text/plain": [
       "<Figure size 504x288 with 1 Axes>"
      ]
     },
     "metadata": {
      "needs_background": "light"
     },
     "output_type": "display_data"
    }
   ],
   "source": [
    "plt.figure(figsize=(7, 4))\n",
    "sns.boxplot(data = train_data[(train_data['Airline'] == 'Jet Airways') & \n",
    "                           (train_data['Source'] == 'Banglore') & \n",
    "                           (train_data['Destination'] == 'New Delhi') & \n",
    "                           (train_data['Duration_Hours'] == 6)], \n",
    "            x = 'Price', color='teal')\n",
    "plt.show()"
   ]
  },
  {
   "cell_type": "code",
   "execution_count": 52,
   "metadata": {},
   "outputs": [
    {
     "data": {
      "text/plain": [
       "13555.0"
      ]
     },
     "execution_count": 52,
     "metadata": {},
     "output_type": "execute_result"
    }
   ],
   "source": [
    "train_data[(train_data['Airline'] == 'Jet Airways') & \n",
    "           (train_data['Source'] == 'Banglore') & \n",
    "           (train_data['Destination'] == 'New Delhi') & \n",
    "           (train_data['Duration_Hours'] == 6)]['Price'].median()"
   ]
  },
  {
   "cell_type": "code",
   "execution_count": 53,
   "metadata": {},
   "outputs": [],
   "source": [
    "train_data['Price'] = np.where((train_data['Price'] > 40000) & (train_data['Airline'] == 'Jet Airways'),\n",
    "                               13555, train_data['Price'])"
   ]
  },
  {
   "cell_type": "code",
   "execution_count": 54,
   "metadata": {
    "scrolled": true
   },
   "outputs": [
    {
     "data": {
      "text/plain": [
       "1.6116154774005362"
      ]
     },
     "execution_count": 54,
     "metadata": {},
     "output_type": "execute_result"
    }
   ],
   "source": [
    "train_data['Price'].skew()"
   ]
  },
  {
   "cell_type": "markdown",
   "metadata": {},
   "source": [
    "As shown on the boxplot above, in general, the distribution price of same `Source`, `Destination`, and `Duration_Hours` from the outliers in Jet Airways Airline are different to others. So that's why, I replace it with its median."
   ]
  },
  {
   "cell_type": "markdown",
   "metadata": {},
   "source": [
    "# 3. Exploratory Data Analysis"
   ]
  },
  {
   "cell_type": "code",
   "execution_count": 55,
   "metadata": {},
   "outputs": [],
   "source": [
    "def summary(df):\n",
    "    dtype = []\n",
    "    nan = []\n",
    "    nan_perc = []\n",
    "    nunique = []\n",
    "    unique = []\n",
    "    \n",
    "    for i in df.columns:\n",
    "        dtype.append(df[i].dtype)\n",
    "        nan.append(df[i].isna().sum())\n",
    "        nan_perc.append((df[i].isna().sum()/len(df[i]))*100)\n",
    "        nunique.append(df[i].nunique())\n",
    "        val_counts = df[i].value_counts(normalize=True)\n",
    "        unique.append(list(val_counts.index))\n",
    "    \n",
    "    summary_df = pd.DataFrame({'dtype': dtype, 'nan' : nan, 'nan_perc' : nan_perc, 'nunique' : nunique, 'unique': unique}, index=df.columns)\n",
    "    \n",
    "    return display(summary_df)"
   ]
  },
  {
   "cell_type": "code",
   "execution_count": 56,
   "metadata": {},
   "outputs": [
    {
     "data": {
      "text/html": [
       "<div>\n",
       "<style scoped>\n",
       "    .dataframe tbody tr th:only-of-type {\n",
       "        vertical-align: middle;\n",
       "    }\n",
       "\n",
       "    .dataframe tbody tr th {\n",
       "        vertical-align: top;\n",
       "    }\n",
       "\n",
       "    .dataframe thead th {\n",
       "        text-align: right;\n",
       "    }\n",
       "</style>\n",
       "<table border=\"1\" class=\"dataframe\">\n",
       "  <thead>\n",
       "    <tr style=\"text-align: right;\">\n",
       "      <th></th>\n",
       "      <th>dtype</th>\n",
       "      <th>nan</th>\n",
       "      <th>nan_perc</th>\n",
       "      <th>nunique</th>\n",
       "      <th>unique</th>\n",
       "    </tr>\n",
       "  </thead>\n",
       "  <tbody>\n",
       "    <tr>\n",
       "      <th>Airline</th>\n",
       "      <td>object</td>\n",
       "      <td>0</td>\n",
       "      <td>0.0</td>\n",
       "      <td>12</td>\n",
       "      <td>[Jet Airways, IndiGo, Air India, Multiple carr...</td>\n",
       "    </tr>\n",
       "    <tr>\n",
       "      <th>Source</th>\n",
       "      <td>object</td>\n",
       "      <td>0</td>\n",
       "      <td>0.0</td>\n",
       "      <td>5</td>\n",
       "      <td>[Delhi, Kolkata, Banglore, Mumbai, Chennai]</td>\n",
       "    </tr>\n",
       "    <tr>\n",
       "      <th>Destination</th>\n",
       "      <td>object</td>\n",
       "      <td>0</td>\n",
       "      <td>0.0</td>\n",
       "      <td>6</td>\n",
       "      <td>[Cochin, Banglore, Delhi, New Delhi, Hyderabad...</td>\n",
       "    </tr>\n",
       "    <tr>\n",
       "      <th>Total_Stops</th>\n",
       "      <td>int64</td>\n",
       "      <td>0</td>\n",
       "      <td>0.0</td>\n",
       "      <td>5</td>\n",
       "      <td>[1, 0, 2, 3, 4]</td>\n",
       "    </tr>\n",
       "    <tr>\n",
       "      <th>Price</th>\n",
       "      <td>int64</td>\n",
       "      <td>0</td>\n",
       "      <td>0.0</td>\n",
       "      <td>1869</td>\n",
       "      <td>[10262, 10844, 7229, 4804, 4823, 14714, 3943, ...</td>\n",
       "    </tr>\n",
       "    <tr>\n",
       "      <th>Journey_Day</th>\n",
       "      <td>int64</td>\n",
       "      <td>0</td>\n",
       "      <td>0.0</td>\n",
       "      <td>9</td>\n",
       "      <td>[6, 5, 3, 27, 21, 24, 15, 18, 4]</td>\n",
       "    </tr>\n",
       "    <tr>\n",
       "      <th>Journey_Month</th>\n",
       "      <td>int64</td>\n",
       "      <td>0</td>\n",
       "      <td>0.0</td>\n",
       "      <td>7</td>\n",
       "      <td>[6, 3, 5, 9, 1, 12, 4]</td>\n",
       "    </tr>\n",
       "    <tr>\n",
       "      <th>Dep_Time_Hours</th>\n",
       "      <td>int64</td>\n",
       "      <td>0</td>\n",
       "      <td>0.0</td>\n",
       "      <td>24</td>\n",
       "      <td>[9, 7, 8, 17, 6, 20, 5, 11, 19, 10, 14, 21, 16...</td>\n",
       "    </tr>\n",
       "    <tr>\n",
       "      <th>Dep_Time_Minutes</th>\n",
       "      <td>int64</td>\n",
       "      <td>0</td>\n",
       "      <td>0.0</td>\n",
       "      <td>12</td>\n",
       "      <td>[0, 30, 55, 10, 45, 5, 15, 25, 20, 35, 50, 40]</td>\n",
       "    </tr>\n",
       "    <tr>\n",
       "      <th>Arrival_Time_Hours</th>\n",
       "      <td>int64</td>\n",
       "      <td>0</td>\n",
       "      <td>0.0</td>\n",
       "      <td>24</td>\n",
       "      <td>[19, 12, 4, 21, 22, 1, 18, 9, 23, 10, 8, 7, 20...</td>\n",
       "    </tr>\n",
       "    <tr>\n",
       "      <th>Arrival_Time_Minutes</th>\n",
       "      <td>int64</td>\n",
       "      <td>0</td>\n",
       "      <td>0.0</td>\n",
       "      <td>12</td>\n",
       "      <td>[0, 25, 15, 35, 20, 30, 50, 45, 5, 40, 10, 55]</td>\n",
       "    </tr>\n",
       "    <tr>\n",
       "      <th>Duration_Hours</th>\n",
       "      <td>int32</td>\n",
       "      <td>0</td>\n",
       "      <td>0.0</td>\n",
       "      <td>44</td>\n",
       "      <td>[2, 1, 3, 7, 5, 9, 12, 8, 13, 11, 10, 6, 14, 1...</td>\n",
       "    </tr>\n",
       "    <tr>\n",
       "      <th>Duration_Minutes</th>\n",
       "      <td>int32</td>\n",
       "      <td>0</td>\n",
       "      <td>0.0</td>\n",
       "      <td>12</td>\n",
       "      <td>[30, 0, 20, 50, 35, 55, 15, 45, 25, 40, 5, 10]</td>\n",
       "    </tr>\n",
       "    <tr>\n",
       "      <th>Route_1</th>\n",
       "      <td>object</td>\n",
       "      <td>0</td>\n",
       "      <td>0.0</td>\n",
       "      <td>5</td>\n",
       "      <td>[DEL , CCU , BLR , BOM , MAA ]</td>\n",
       "    </tr>\n",
       "    <tr>\n",
       "      <th>Route_2</th>\n",
       "      <td>object</td>\n",
       "      <td>0</td>\n",
       "      <td>0.0</td>\n",
       "      <td>45</td>\n",
       "      <td>[ BOM ,  DEL,  BLR,  DEL ,  HYD,  HYD ,  CCU, ...</td>\n",
       "    </tr>\n",
       "    <tr>\n",
       "      <th>Route_3</th>\n",
       "      <td>object</td>\n",
       "      <td>0</td>\n",
       "      <td>0.0</td>\n",
       "      <td>30</td>\n",
       "      <td>[None,  COK,  BLR,  BOM ,  DEL,  DEL ,  MAA , ...</td>\n",
       "    </tr>\n",
       "    <tr>\n",
       "      <th>Route_4</th>\n",
       "      <td>object</td>\n",
       "      <td>0</td>\n",
       "      <td>0.0</td>\n",
       "      <td>14</td>\n",
       "      <td>[None,  COK,  BLR,  DEL,  HYD,  BOM ,  DEL ,  ...</td>\n",
       "    </tr>\n",
       "    <tr>\n",
       "      <th>Route_5</th>\n",
       "      <td>object</td>\n",
       "      <td>0</td>\n",
       "      <td>0.0</td>\n",
       "      <td>6</td>\n",
       "      <td>[None,  COK,  BLR,  DEL,  HYD,  VGA ]</td>\n",
       "    </tr>\n",
       "  </tbody>\n",
       "</table>\n",
       "</div>"
      ],
      "text/plain": [
       "                       dtype  nan  nan_perc  nunique  \\\n",
       "Airline               object    0       0.0       12   \n",
       "Source                object    0       0.0        5   \n",
       "Destination           object    0       0.0        6   \n",
       "Total_Stops            int64    0       0.0        5   \n",
       "Price                  int64    0       0.0     1869   \n",
       "Journey_Day            int64    0       0.0        9   \n",
       "Journey_Month          int64    0       0.0        7   \n",
       "Dep_Time_Hours         int64    0       0.0       24   \n",
       "Dep_Time_Minutes       int64    0       0.0       12   \n",
       "Arrival_Time_Hours     int64    0       0.0       24   \n",
       "Arrival_Time_Minutes   int64    0       0.0       12   \n",
       "Duration_Hours         int32    0       0.0       44   \n",
       "Duration_Minutes       int32    0       0.0       12   \n",
       "Route_1               object    0       0.0        5   \n",
       "Route_2               object    0       0.0       45   \n",
       "Route_3               object    0       0.0       30   \n",
       "Route_4               object    0       0.0       14   \n",
       "Route_5               object    0       0.0        6   \n",
       "\n",
       "                                                                 unique  \n",
       "Airline               [Jet Airways, IndiGo, Air India, Multiple carr...  \n",
       "Source                      [Delhi, Kolkata, Banglore, Mumbai, Chennai]  \n",
       "Destination           [Cochin, Banglore, Delhi, New Delhi, Hyderabad...  \n",
       "Total_Stops                                             [1, 0, 2, 3, 4]  \n",
       "Price                 [10262, 10844, 7229, 4804, 4823, 14714, 3943, ...  \n",
       "Journey_Day                            [6, 5, 3, 27, 21, 24, 15, 18, 4]  \n",
       "Journey_Month                                    [6, 3, 5, 9, 1, 12, 4]  \n",
       "Dep_Time_Hours        [9, 7, 8, 17, 6, 20, 5, 11, 19, 10, 14, 21, 16...  \n",
       "Dep_Time_Minutes         [0, 30, 55, 10, 45, 5, 15, 25, 20, 35, 50, 40]  \n",
       "Arrival_Time_Hours    [19, 12, 4, 21, 22, 1, 18, 9, 23, 10, 8, 7, 20...  \n",
       "Arrival_Time_Minutes     [0, 25, 15, 35, 20, 30, 50, 45, 5, 40, 10, 55]  \n",
       "Duration_Hours        [2, 1, 3, 7, 5, 9, 12, 8, 13, 11, 10, 6, 14, 1...  \n",
       "Duration_Minutes         [30, 0, 20, 50, 35, 55, 15, 45, 25, 40, 5, 10]  \n",
       "Route_1                                  [DEL , CCU , BLR , BOM , MAA ]  \n",
       "Route_2               [ BOM ,  DEL,  BLR,  DEL ,  HYD,  HYD ,  CCU, ...  \n",
       "Route_3               [None,  COK,  BLR,  BOM ,  DEL,  DEL ,  MAA , ...  \n",
       "Route_4               [None,  COK,  BLR,  DEL,  HYD,  BOM ,  DEL ,  ...  \n",
       "Route_5                           [None,  COK,  BLR,  DEL,  HYD,  VGA ]  "
      ]
     },
     "metadata": {},
     "output_type": "display_data"
    }
   ],
   "source": [
    "summary(train_data)"
   ]
  },
  {
   "cell_type": "code",
   "execution_count": 57,
   "metadata": {
    "scrolled": true
   },
   "outputs": [
    {
     "data": {
      "text/html": [
       "<div>\n",
       "<style scoped>\n",
       "    .dataframe tbody tr th:only-of-type {\n",
       "        vertical-align: middle;\n",
       "    }\n",
       "\n",
       "    .dataframe tbody tr th {\n",
       "        vertical-align: top;\n",
       "    }\n",
       "\n",
       "    .dataframe thead th {\n",
       "        text-align: right;\n",
       "    }\n",
       "</style>\n",
       "<table border=\"1\" class=\"dataframe\">\n",
       "  <thead>\n",
       "    <tr style=\"text-align: right;\">\n",
       "      <th></th>\n",
       "      <th>count</th>\n",
       "      <th>mean</th>\n",
       "      <th>std</th>\n",
       "      <th>min</th>\n",
       "      <th>25%</th>\n",
       "      <th>50%</th>\n",
       "      <th>75%</th>\n",
       "      <th>max</th>\n",
       "    </tr>\n",
       "  </thead>\n",
       "  <tbody>\n",
       "    <tr>\n",
       "      <th>Total_Stops</th>\n",
       "      <td>10682.0</td>\n",
       "      <td>0.824190</td>\n",
       "      <td>0.675229</td>\n",
       "      <td>0.0</td>\n",
       "      <td>0.0</td>\n",
       "      <td>1.0</td>\n",
       "      <td>1.0</td>\n",
       "      <td>4.0</td>\n",
       "    </tr>\n",
       "    <tr>\n",
       "      <th>Price</th>\n",
       "      <td>10682.0</td>\n",
       "      <td>9075.623760</td>\n",
       "      <td>4547.995043</td>\n",
       "      <td>1759.0</td>\n",
       "      <td>5277.0</td>\n",
       "      <td>8372.0</td>\n",
       "      <td>12373.0</td>\n",
       "      <td>79512.0</td>\n",
       "    </tr>\n",
       "    <tr>\n",
       "      <th>Journey_Day</th>\n",
       "      <td>10682.0</td>\n",
       "      <td>12.682925</td>\n",
       "      <td>8.803800</td>\n",
       "      <td>3.0</td>\n",
       "      <td>5.0</td>\n",
       "      <td>6.0</td>\n",
       "      <td>21.0</td>\n",
       "      <td>27.0</td>\n",
       "    </tr>\n",
       "    <tr>\n",
       "      <th>Journey_Month</th>\n",
       "      <td>10682.0</td>\n",
       "      <td>5.534731</td>\n",
       "      <td>2.987626</td>\n",
       "      <td>1.0</td>\n",
       "      <td>3.0</td>\n",
       "      <td>5.0</td>\n",
       "      <td>6.0</td>\n",
       "      <td>12.0</td>\n",
       "    </tr>\n",
       "    <tr>\n",
       "      <th>Dep_Time_Hours</th>\n",
       "      <td>10682.0</td>\n",
       "      <td>12.491013</td>\n",
       "      <td>5.748820</td>\n",
       "      <td>0.0</td>\n",
       "      <td>8.0</td>\n",
       "      <td>11.0</td>\n",
       "      <td>18.0</td>\n",
       "      <td>23.0</td>\n",
       "    </tr>\n",
       "    <tr>\n",
       "      <th>Dep_Time_Minutes</th>\n",
       "      <td>10682.0</td>\n",
       "      <td>24.409287</td>\n",
       "      <td>18.767801</td>\n",
       "      <td>0.0</td>\n",
       "      <td>5.0</td>\n",
       "      <td>25.0</td>\n",
       "      <td>40.0</td>\n",
       "      <td>55.0</td>\n",
       "    </tr>\n",
       "    <tr>\n",
       "      <th>Arrival_Time_Hours</th>\n",
       "      <td>10682.0</td>\n",
       "      <td>13.349186</td>\n",
       "      <td>6.859317</td>\n",
       "      <td>0.0</td>\n",
       "      <td>8.0</td>\n",
       "      <td>14.0</td>\n",
       "      <td>19.0</td>\n",
       "      <td>23.0</td>\n",
       "    </tr>\n",
       "    <tr>\n",
       "      <th>Arrival_Time_Minutes</th>\n",
       "      <td>10682.0</td>\n",
       "      <td>24.690601</td>\n",
       "      <td>16.506808</td>\n",
       "      <td>0.0</td>\n",
       "      <td>10.0</td>\n",
       "      <td>25.0</td>\n",
       "      <td>35.0</td>\n",
       "      <td>55.0</td>\n",
       "    </tr>\n",
       "    <tr>\n",
       "      <th>Duration_Hours</th>\n",
       "      <td>10682.0</td>\n",
       "      <td>10.244898</td>\n",
       "      <td>8.494916</td>\n",
       "      <td>0.0</td>\n",
       "      <td>2.0</td>\n",
       "      <td>8.0</td>\n",
       "      <td>15.0</td>\n",
       "      <td>47.0</td>\n",
       "    </tr>\n",
       "    <tr>\n",
       "      <th>Duration_Minutes</th>\n",
       "      <td>10682.0</td>\n",
       "      <td>28.326624</td>\n",
       "      <td>16.945817</td>\n",
       "      <td>0.0</td>\n",
       "      <td>15.0</td>\n",
       "      <td>30.0</td>\n",
       "      <td>45.0</td>\n",
       "      <td>55.0</td>\n",
       "    </tr>\n",
       "  </tbody>\n",
       "</table>\n",
       "</div>"
      ],
      "text/plain": [
       "                        count         mean          std     min     25%  \\\n",
       "Total_Stops           10682.0     0.824190     0.675229     0.0     0.0   \n",
       "Price                 10682.0  9075.623760  4547.995043  1759.0  5277.0   \n",
       "Journey_Day           10682.0    12.682925     8.803800     3.0     5.0   \n",
       "Journey_Month         10682.0     5.534731     2.987626     1.0     3.0   \n",
       "Dep_Time_Hours        10682.0    12.491013     5.748820     0.0     8.0   \n",
       "Dep_Time_Minutes      10682.0    24.409287    18.767801     0.0     5.0   \n",
       "Arrival_Time_Hours    10682.0    13.349186     6.859317     0.0     8.0   \n",
       "Arrival_Time_Minutes  10682.0    24.690601    16.506808     0.0    10.0   \n",
       "Duration_Hours        10682.0    10.244898     8.494916     0.0     2.0   \n",
       "Duration_Minutes      10682.0    28.326624    16.945817     0.0    15.0   \n",
       "\n",
       "                         50%      75%      max  \n",
       "Total_Stops              1.0      1.0      4.0  \n",
       "Price                 8372.0  12373.0  79512.0  \n",
       "Journey_Day              6.0     21.0     27.0  \n",
       "Journey_Month            5.0      6.0     12.0  \n",
       "Dep_Time_Hours          11.0     18.0     23.0  \n",
       "Dep_Time_Minutes        25.0     40.0     55.0  \n",
       "Arrival_Time_Hours      14.0     19.0     23.0  \n",
       "Arrival_Time_Minutes    25.0     35.0     55.0  \n",
       "Duration_Hours           8.0     15.0     47.0  \n",
       "Duration_Minutes        30.0     45.0     55.0  "
      ]
     },
     "execution_count": 57,
     "metadata": {},
     "output_type": "execute_result"
    }
   ],
   "source": [
    "train_data.describe().T"
   ]
  },
  {
   "cell_type": "markdown",
   "metadata": {},
   "source": [
    "## A. Jet Airways Business is the Highest Price Airline"
   ]
  },
  {
   "cell_type": "code",
   "execution_count": 58,
   "metadata": {},
   "outputs": [
    {
     "data": {
      "text/html": [
       "<div>\n",
       "<style scoped>\n",
       "    .dataframe tbody tr th:only-of-type {\n",
       "        vertical-align: middle;\n",
       "    }\n",
       "\n",
       "    .dataframe tbody tr th {\n",
       "        vertical-align: top;\n",
       "    }\n",
       "\n",
       "    .dataframe thead th {\n",
       "        text-align: right;\n",
       "    }\n",
       "</style>\n",
       "<table border=\"1\" class=\"dataframe\">\n",
       "  <thead>\n",
       "    <tr style=\"text-align: right;\">\n",
       "      <th></th>\n",
       "      <th>Airline</th>\n",
       "      <th>Price</th>\n",
       "    </tr>\n",
       "  </thead>\n",
       "  <tbody>\n",
       "    <tr>\n",
       "      <th>0</th>\n",
       "      <td>Jet Airways Business</td>\n",
       "      <td>54747.0</td>\n",
       "    </tr>\n",
       "    <tr>\n",
       "      <th>1</th>\n",
       "      <td>Jet Airways</td>\n",
       "      <td>11467.0</td>\n",
       "    </tr>\n",
       "    <tr>\n",
       "      <th>2</th>\n",
       "      <td>Multiple carriers Premium economy</td>\n",
       "      <td>11269.0</td>\n",
       "    </tr>\n",
       "    <tr>\n",
       "      <th>3</th>\n",
       "      <td>Multiple carriers</td>\n",
       "      <td>10197.0</td>\n",
       "    </tr>\n",
       "    <tr>\n",
       "      <th>4</th>\n",
       "      <td>Air India</td>\n",
       "      <td>9443.0</td>\n",
       "    </tr>\n",
       "    <tr>\n",
       "      <th>5</th>\n",
       "      <td>Vistara Premium economy</td>\n",
       "      <td>9125.0</td>\n",
       "    </tr>\n",
       "    <tr>\n",
       "      <th>6</th>\n",
       "      <td>Vistara</td>\n",
       "      <td>7980.0</td>\n",
       "    </tr>\n",
       "    <tr>\n",
       "      <th>7</th>\n",
       "      <td>Air Asia</td>\n",
       "      <td>5162.0</td>\n",
       "    </tr>\n",
       "    <tr>\n",
       "      <th>8</th>\n",
       "      <td>GoAir</td>\n",
       "      <td>5135.0</td>\n",
       "    </tr>\n",
       "    <tr>\n",
       "      <th>9</th>\n",
       "      <td>IndiGo</td>\n",
       "      <td>5000.0</td>\n",
       "    </tr>\n",
       "    <tr>\n",
       "      <th>10</th>\n",
       "      <td>Trujet</td>\n",
       "      <td>4140.0</td>\n",
       "    </tr>\n",
       "    <tr>\n",
       "      <th>11</th>\n",
       "      <td>SpiceJet</td>\n",
       "      <td>3873.0</td>\n",
       "    </tr>\n",
       "  </tbody>\n",
       "</table>\n",
       "</div>"
      ],
      "text/plain": [
       "                              Airline    Price\n",
       "0                Jet Airways Business  54747.0\n",
       "1                         Jet Airways  11467.0\n",
       "2   Multiple carriers Premium economy  11269.0\n",
       "3                   Multiple carriers  10197.0\n",
       "4                           Air India   9443.0\n",
       "5             Vistara Premium economy   9125.0\n",
       "6                             Vistara   7980.0\n",
       "7                            Air Asia   5162.0\n",
       "8                               GoAir   5135.0\n",
       "9                              IndiGo   5000.0\n",
       "10                             Trujet   4140.0\n",
       "11                           SpiceJet   3873.0"
      ]
     },
     "execution_count": 58,
     "metadata": {},
     "output_type": "execute_result"
    }
   ],
   "source": [
    "train_data.groupby(['Airline']).median()['Price'].sort_values(ascending=False).reset_index()"
   ]
  },
  {
   "cell_type": "code",
   "execution_count": 59,
   "metadata": {
    "scrolled": false
   },
   "outputs": [
    {
     "data": {
      "image/png": "[encoded data removed]",
      "text/plain": [
       "<Figure size 1440x504 with 2 Axes>"
      ]
     },
     "metadata": {
      "needs_background": "light"
     },
     "output_type": "display_data"
    }
   ],
   "source": [
    "df_airline = train_data.groupby(['Airline']).median()['Price'].sort_values(ascending=False).reset_index()\n",
    "order_airline = df_airline['Airline']\n",
    "\n",
    "fig = plt.figure(figsize=(20, 7))\n",
    "\n",
    "plt.subplot(1, 2, 1)\n",
    "g = sns.barplot(x='Airline', y='Price', data=df_airline, order=order_airline, ci=None, palette='crest')\n",
    "for idx, p in enumerate(g.patches) :\n",
    "    g.text(x=idx, y=p.get_height()+1500, s=int(p.get_height()),\n",
    "           ha='center', va='center', \n",
    "           fontweight='bold', color=p.get_fc())\n",
    "plt.xticks(rotation=90)\n",
    "\n",
    "plt.subplot(1, 2, 2)\n",
    "sns.boxenplot(x='Airline', y='Price', data=train_data, order=order_airline, palette='crest')\n",
    "plt.xticks(rotation=90)\n",
    "\n",
    "fig.suptitle('Price by Airlines', fontsize='16', fontweight='bold')\n",
    "plt.show()"
   ]
  },
  {
   "cell_type": "markdown",
   "metadata": {},
   "source": [
    "Different from the other airlines, Jet Airways Business has the highest median price and has the highest range price. It has big gap from the others, where the others have similar median price and range. "
   ]
  },
  {
   "cell_type": "markdown",
   "metadata": {},
   "source": [
    "## B. South Part of India is the Most Favourite Destination"
   ]
  },
  {
   "cell_type": "code",
   "execution_count": 60,
   "metadata": {},
   "outputs": [
    {
     "data": {
      "text/html": [
       "<div>\n",
       "<style scoped>\n",
       "    .dataframe tbody tr th:only-of-type {\n",
       "        vertical-align: middle;\n",
       "    }\n",
       "\n",
       "    .dataframe tbody tr th {\n",
       "        vertical-align: top;\n",
       "    }\n",
       "\n",
       "    .dataframe thead th {\n",
       "        text-align: right;\n",
       "    }\n",
       "</style>\n",
       "<table border=\"1\" class=\"dataframe\">\n",
       "  <thead>\n",
       "    <tr style=\"text-align: right;\">\n",
       "      <th></th>\n",
       "      <th>Destination</th>\n",
       "      <th>Count</th>\n",
       "      <th>Price</th>\n",
       "    </tr>\n",
       "  </thead>\n",
       "  <tbody>\n",
       "    <tr>\n",
       "      <th>1</th>\n",
       "      <td>Cochin</td>\n",
       "      <td>4536</td>\n",
       "      <td>10262.0</td>\n",
       "    </tr>\n",
       "    <tr>\n",
       "      <th>0</th>\n",
       "      <td>Banglore</td>\n",
       "      <td>2871</td>\n",
       "      <td>9345.0</td>\n",
       "    </tr>\n",
       "    <tr>\n",
       "      <th>2</th>\n",
       "      <td>Delhi</td>\n",
       "      <td>1265</td>\n",
       "      <td>4823.0</td>\n",
       "    </tr>\n",
       "    <tr>\n",
       "      <th>5</th>\n",
       "      <td>New Delhi</td>\n",
       "      <td>932</td>\n",
       "      <td>10898.5</td>\n",
       "    </tr>\n",
       "    <tr>\n",
       "      <th>3</th>\n",
       "      <td>Hyderabad</td>\n",
       "      <td>697</td>\n",
       "      <td>3342.0</td>\n",
       "    </tr>\n",
       "    <tr>\n",
       "      <th>4</th>\n",
       "      <td>Kolkata</td>\n",
       "      <td>381</td>\n",
       "      <td>3850.0</td>\n",
       "    </tr>\n",
       "  </tbody>\n",
       "</table>\n",
       "</div>"
      ],
      "text/plain": [
       "  Destination  Count    Price\n",
       "1      Cochin   4536  10262.0\n",
       "0    Banglore   2871   9345.0\n",
       "2       Delhi   1265   4823.0\n",
       "5   New Delhi    932  10898.5\n",
       "3   Hyderabad    697   3342.0\n",
       "4     Kolkata    381   3850.0"
      ]
     },
     "execution_count": 60,
     "metadata": {},
     "output_type": "execute_result"
    }
   ],
   "source": [
    "dest_df = train_data.groupby('Destination').agg(Count=('Destination', 'size'), \n",
    "                                                Price=('Price', 'median')).reset_index().sort_values('Count', ascending=False)\n",
    "dest_df"
   ]
  },
  {
   "cell_type": "code",
   "execution_count": 61,
   "metadata": {
    "scrolled": false
   },
   "outputs": [
    {
     "data": {
      "image/png": "[encoded data removed]",
      "text/plain": [
       "<Figure size 864x432 with 2 Axes>"
      ]
     },
     "metadata": {
      "needs_background": "light"
     },
     "output_type": "display_data"
    }
   ],
   "source": [
    "fig, ax1 = plt.subplots(figsize=(12,6))\n",
    "\n",
    "sns.barplot(x='Destination', y='Count', data=dest_df, ax=ax1, palette='crest')\n",
    "\n",
    "ax2 = ax1.twinx()\n",
    "sns.lineplot(x='Destination', y='Price', data=dest_df, sort=False, ax=ax2, color='coral', linewidth=3, label='Price')\n",
    "ax2.set_yticklabels([])\n",
    "ax2.set_yticks([])\n",
    "ax2.set_ylabel(None)\n",
    "\n",
    "plt.title('Price by Favourite Destination', fontsize='12', fontweight='bold')\n",
    "plt.show()"
   ]
  },
  {
   "cell_type": "markdown",
   "metadata": {},
   "source": [
    "There are six destinations providing by airlines in this dataset. On the chart above, it shows favourite destination (bar chart) overlayed by price (orange line chart). Based on that chart, Cochin and Banglore located in south part of India become favourite destination. Then, followed by Delhi, New Delhi, Hyderabad, and Kolkata. Cochin and Banglore also have high median price. Even though, the highest median price of destination is New Delhi. "
   ]
  },
  {
   "cell_type": "markdown",
   "metadata": {},
   "source": [
    "## C. June is the Busiest Flight"
   ]
  },
  {
   "cell_type": "code",
   "execution_count": 62,
   "metadata": {},
   "outputs": [
    {
     "data": {
      "text/html": [
       "<div>\n",
       "<style scoped>\n",
       "    .dataframe tbody tr th:only-of-type {\n",
       "        vertical-align: middle;\n",
       "    }\n",
       "\n",
       "    .dataframe tbody tr th {\n",
       "        vertical-align: top;\n",
       "    }\n",
       "\n",
       "    .dataframe thead th {\n",
       "        text-align: right;\n",
       "    }\n",
       "</style>\n",
       "<table border=\"1\" class=\"dataframe\">\n",
       "  <thead>\n",
       "    <tr style=\"text-align: right;\">\n",
       "      <th></th>\n",
       "      <th>Journey_Month</th>\n",
       "      <th>Count</th>\n",
       "      <th>Price</th>\n",
       "    </tr>\n",
       "  </thead>\n",
       "  <tbody>\n",
       "    <tr>\n",
       "      <th>0</th>\n",
       "      <td>Jan</td>\n",
       "      <td>1075</td>\n",
       "      <td>8937</td>\n",
       "    </tr>\n",
       "    <tr>\n",
       "      <th>1</th>\n",
       "      <td>Mar</td>\n",
       "      <td>2211</td>\n",
       "      <td>7532</td>\n",
       "    </tr>\n",
       "    <tr>\n",
       "      <th>2</th>\n",
       "      <td>Apr</td>\n",
       "      <td>424</td>\n",
       "      <td>4924</td>\n",
       "    </tr>\n",
       "    <tr>\n",
       "      <th>3</th>\n",
       "      <td>May</td>\n",
       "      <td>2074</td>\n",
       "      <td>9345</td>\n",
       "    </tr>\n",
       "    <tr>\n",
       "      <th>4</th>\n",
       "      <td>Jun</td>\n",
       "      <td>2535</td>\n",
       "      <td>8662</td>\n",
       "    </tr>\n",
       "    <tr>\n",
       "      <th>5</th>\n",
       "      <td>Sep</td>\n",
       "      <td>1406</td>\n",
       "      <td>9482</td>\n",
       "    </tr>\n",
       "    <tr>\n",
       "      <th>6</th>\n",
       "      <td>Dec</td>\n",
       "      <td>957</td>\n",
       "      <td>8996</td>\n",
       "    </tr>\n",
       "  </tbody>\n",
       "</table>\n",
       "</div>"
      ],
      "text/plain": [
       "  Journey_Month  Count  Price\n",
       "0           Jan   1075   8937\n",
       "1           Mar   2211   7532\n",
       "2           Apr    424   4924\n",
       "3           May   2074   9345\n",
       "4           Jun   2535   8662\n",
       "5           Sep   1406   9482\n",
       "6           Dec    957   8996"
      ]
     },
     "execution_count": 62,
     "metadata": {},
     "output_type": "execute_result"
    }
   ],
   "source": [
    "month_df = train_data.groupby('Journey_Month').agg(Count=('Journey_Month', 'size'), \n",
    "                                                   Price=('Price', 'median')).reset_index()\n",
    "\n",
    "month_df['Journey_Month'] = month_df['Journey_Month'].replace([1,3,4,5,6,9,12], \n",
    "                                                              ['Jan', 'Mar', 'Apr', 'May', 'Jun', 'Sep', 'Dec'])\n",
    "\n",
    "month_df"
   ]
  },
  {
   "cell_type": "code",
   "execution_count": 63,
   "metadata": {
    "scrolled": false
   },
   "outputs": [
    {
     "data": {
      "image/png": "[encoded data removed]",
      "text/plain": [
       "<Figure size 864x432 with 2 Axes>"
      ]
     },
     "metadata": {
      "needs_background": "light"
     },
     "output_type": "display_data"
    }
   ],
   "source": [
    "fig, ax3 = plt.subplots(figsize=(12,6))\n",
    "\n",
    "sns.barplot(x='Journey_Month', y='Count', data=month_df, ax=ax3, palette='crest')\n",
    "\n",
    "ax4 = ax3.twinx()\n",
    "sns.lineplot(x='Journey_Month', y='Price', data=month_df, ax=ax4, color='coral', linewidth=3, label='Price')\n",
    "ax2.set_yticklabels([])\n",
    "ax2.set_yticks([])\n",
    "ax2.set_ylabel(None)\n",
    "\n",
    "plt.title('Price by Busy Months', fontsize='12', fontweight='bold')\n",
    "plt.show()"
   ]
  },
  {
   "cell_type": "markdown",
   "metadata": {},
   "source": [
    "In this dataset, there are several months that do not have recorded data. On the chart above, it shows months ordered from January, March, April, May, June Sepetember, and December (bar chart) overlayed by price (orange line chart).There are many airlines flights on June. However, the pattern of the number of flights each month is not followed by the price. I can assume that people avoid high airfares (Jan, Sep, Dec). "
   ]
  },
  {
   "cell_type": "markdown",
   "metadata": {},
   "source": [
    "## D. More Stops Can Increase Airfares"
   ]
  },
  {
   "cell_type": "code",
   "execution_count": 64,
   "metadata": {
    "scrolled": false
   },
   "outputs": [
    {
     "data": {
      "image/png": "[encoded data removed]",
      "text/plain": [
       "<Figure size 1440x504 with 2 Axes>"
      ]
     },
     "metadata": {
      "needs_background": "light"
     },
     "output_type": "display_data"
    }
   ],
   "source": [
    "df_stop = train_data.groupby(['Total_Stops']).median()['Price'].sort_values(ascending=False).reset_index()\n",
    "order_stop = df_stop['Total_Stops']\n",
    "\n",
    "fig = plt.figure(figsize=(20, 7))\n",
    "\n",
    "plt.subplot(1, 2, 1)\n",
    "g = sns.barplot(x='Total_Stops', y='Price', data=train_data, order=order_stop, ci=None, palette='crest')\n",
    "for idx, p in enumerate(g.patches) :\n",
    "    g.text(x=idx, y=p.get_height()+300, s=int(p.get_height()),\n",
    "           ha='center', va='center', \n",
    "           fontweight='bold', color=p.get_fc())\n",
    "\n",
    "plt.subplot(1, 2, 2)\n",
    "sns.boxenplot(x='Total_Stops', y='Price', data=train_data, order=order_stop, palette='crest')\n",
    "\n",
    "fig.suptitle('Price by Total Stops', fontsize='16', fontweight='bold')\n",
    "plt.show()"
   ]
  },
  {
   "cell_type": "markdown",
   "metadata": {},
   "source": [
    "When we want to save expenses, find the direct flights. As shown chart above, if we take indirect flights to our destination, the price will increase. And the gap median price of direct flights compared to indirect flights is far."
   ]
  },
  {
   "cell_type": "markdown",
   "metadata": {},
   "source": [
    "# 3. Modeling"
   ]
  },
  {
   "cell_type": "markdown",
   "metadata": {},
   "source": [
    "## A. Preparation"
   ]
  },
  {
   "cell_type": "markdown",
   "metadata": {},
   "source": [
    "In this case, regression machine learnings is used to predict airfare. There are several regression algoritms that are applied, namely Ridge Regression, K-Nearest Neighbor Regressor, and Random Forest Resgressor. To find the best model, those three machine learning alghorithms will be compared using default parameters first. Then, the best score of benchmark model will be continued to hyperparameter tuning step to find the best parameters. The modeling process is done end-to-end using Pipeline to avoid data leakage. Each pipeline is started with a Column Transformer that has a function to manipulate several features so that it can be read by the machine learning alorithms.\n",
    "\n",
    "The input data used for machine learning model are different from original data. Where, the originial data have been processed, cleaned, and extracted new features previously. The features used are shown below:"
   ]
  },
  {
   "cell_type": "code",
   "execution_count": 65,
   "metadata": {
    "scrolled": false
   },
   "outputs": [
    {
     "data": {
      "text/html": [
       "<div>\n",
       "<style scoped>\n",
       "    .dataframe tbody tr th:only-of-type {\n",
       "        vertical-align: middle;\n",
       "    }\n",
       "\n",
       "    .dataframe tbody tr th {\n",
       "        vertical-align: top;\n",
       "    }\n",
       "\n",
       "    .dataframe thead th {\n",
       "        text-align: right;\n",
       "    }\n",
       "</style>\n",
       "<table border=\"1\" class=\"dataframe\">\n",
       "  <thead>\n",
       "    <tr style=\"text-align: right;\">\n",
       "      <th></th>\n",
       "      <th>dtype</th>\n",
       "      <th>nan</th>\n",
       "      <th>nan_perc</th>\n",
       "      <th>nunique</th>\n",
       "      <th>unique</th>\n",
       "    </tr>\n",
       "  </thead>\n",
       "  <tbody>\n",
       "    <tr>\n",
       "      <th>Airline</th>\n",
       "      <td>object</td>\n",
       "      <td>0</td>\n",
       "      <td>0.0</td>\n",
       "      <td>12</td>\n",
       "      <td>[Jet Airways, IndiGo, Air India, Multiple carr...</td>\n",
       "    </tr>\n",
       "    <tr>\n",
       "      <th>Source</th>\n",
       "      <td>object</td>\n",
       "      <td>0</td>\n",
       "      <td>0.0</td>\n",
       "      <td>5</td>\n",
       "      <td>[Delhi, Kolkata, Banglore, Mumbai, Chennai]</td>\n",
       "    </tr>\n",
       "    <tr>\n",
       "      <th>Destination</th>\n",
       "      <td>object</td>\n",
       "      <td>0</td>\n",
       "      <td>0.0</td>\n",
       "      <td>6</td>\n",
       "      <td>[Cochin, Banglore, Delhi, New Delhi, Hyderabad...</td>\n",
       "    </tr>\n",
       "    <tr>\n",
       "      <th>Total_Stops</th>\n",
       "      <td>int64</td>\n",
       "      <td>0</td>\n",
       "      <td>0.0</td>\n",
       "      <td>5</td>\n",
       "      <td>[1, 0, 2, 3, 4]</td>\n",
       "    </tr>\n",
       "    <tr>\n",
       "      <th>Price</th>\n",
       "      <td>int64</td>\n",
       "      <td>0</td>\n",
       "      <td>0.0</td>\n",
       "      <td>1869</td>\n",
       "      <td>[10262, 10844, 7229, 4804, 4823, 14714, 3943, ...</td>\n",
       "    </tr>\n",
       "    <tr>\n",
       "      <th>Journey_Day</th>\n",
       "      <td>int64</td>\n",
       "      <td>0</td>\n",
       "      <td>0.0</td>\n",
       "      <td>9</td>\n",
       "      <td>[6, 5, 3, 27, 21, 24, 15, 18, 4]</td>\n",
       "    </tr>\n",
       "    <tr>\n",
       "      <th>Journey_Month</th>\n",
       "      <td>int64</td>\n",
       "      <td>0</td>\n",
       "      <td>0.0</td>\n",
       "      <td>7</td>\n",
       "      <td>[6, 3, 5, 9, 1, 12, 4]</td>\n",
       "    </tr>\n",
       "    <tr>\n",
       "      <th>Dep_Time_Hours</th>\n",
       "      <td>int64</td>\n",
       "      <td>0</td>\n",
       "      <td>0.0</td>\n",
       "      <td>24</td>\n",
       "      <td>[9, 7, 8, 17, 6, 20, 5, 11, 19, 10, 14, 21, 16...</td>\n",
       "    </tr>\n",
       "    <tr>\n",
       "      <th>Dep_Time_Minutes</th>\n",
       "      <td>int64</td>\n",
       "      <td>0</td>\n",
       "      <td>0.0</td>\n",
       "      <td>12</td>\n",
       "      <td>[0, 30, 55, 10, 45, 5, 15, 25, 20, 35, 50, 40]</td>\n",
       "    </tr>\n",
       "    <tr>\n",
       "      <th>Arrival_Time_Hours</th>\n",
       "      <td>int64</td>\n",
       "      <td>0</td>\n",
       "      <td>0.0</td>\n",
       "      <td>24</td>\n",
       "      <td>[19, 12, 4, 21, 22, 1, 18, 9, 23, 10, 8, 7, 20...</td>\n",
       "    </tr>\n",
       "    <tr>\n",
       "      <th>Arrival_Time_Minutes</th>\n",
       "      <td>int64</td>\n",
       "      <td>0</td>\n",
       "      <td>0.0</td>\n",
       "      <td>12</td>\n",
       "      <td>[0, 25, 15, 35, 20, 30, 50, 45, 5, 40, 10, 55]</td>\n",
       "    </tr>\n",
       "    <tr>\n",
       "      <th>Duration_Hours</th>\n",
       "      <td>int32</td>\n",
       "      <td>0</td>\n",
       "      <td>0.0</td>\n",
       "      <td>44</td>\n",
       "      <td>[2, 1, 3, 7, 5, 9, 12, 8, 13, 11, 10, 6, 14, 1...</td>\n",
       "    </tr>\n",
       "    <tr>\n",
       "      <th>Duration_Minutes</th>\n",
       "      <td>int32</td>\n",
       "      <td>0</td>\n",
       "      <td>0.0</td>\n",
       "      <td>12</td>\n",
       "      <td>[30, 0, 20, 50, 35, 55, 15, 45, 25, 40, 5, 10]</td>\n",
       "    </tr>\n",
       "    <tr>\n",
       "      <th>Route_1</th>\n",
       "      <td>object</td>\n",
       "      <td>0</td>\n",
       "      <td>0.0</td>\n",
       "      <td>5</td>\n",
       "      <td>[DEL , CCU , BLR , BOM , MAA ]</td>\n",
       "    </tr>\n",
       "    <tr>\n",
       "      <th>Route_2</th>\n",
       "      <td>object</td>\n",
       "      <td>0</td>\n",
       "      <td>0.0</td>\n",
       "      <td>45</td>\n",
       "      <td>[ BOM ,  DEL,  BLR,  DEL ,  HYD,  HYD ,  CCU, ...</td>\n",
       "    </tr>\n",
       "    <tr>\n",
       "      <th>Route_3</th>\n",
       "      <td>object</td>\n",
       "      <td>0</td>\n",
       "      <td>0.0</td>\n",
       "      <td>30</td>\n",
       "      <td>[None,  COK,  BLR,  BOM ,  DEL,  DEL ,  MAA , ...</td>\n",
       "    </tr>\n",
       "    <tr>\n",
       "      <th>Route_4</th>\n",
       "      <td>object</td>\n",
       "      <td>0</td>\n",
       "      <td>0.0</td>\n",
       "      <td>14</td>\n",
       "      <td>[None,  COK,  BLR,  DEL,  HYD,  BOM ,  DEL ,  ...</td>\n",
       "    </tr>\n",
       "    <tr>\n",
       "      <th>Route_5</th>\n",
       "      <td>object</td>\n",
       "      <td>0</td>\n",
       "      <td>0.0</td>\n",
       "      <td>6</td>\n",
       "      <td>[None,  COK,  BLR,  DEL,  HYD,  VGA ]</td>\n",
       "    </tr>\n",
       "  </tbody>\n",
       "</table>\n",
       "</div>"
      ],
      "text/plain": [
       "                       dtype  nan  nan_perc  nunique  \\\n",
       "Airline               object    0       0.0       12   \n",
       "Source                object    0       0.0        5   \n",
       "Destination           object    0       0.0        6   \n",
       "Total_Stops            int64    0       0.0        5   \n",
       "Price                  int64    0       0.0     1869   \n",
       "Journey_Day            int64    0       0.0        9   \n",
       "Journey_Month          int64    0       0.0        7   \n",
       "Dep_Time_Hours         int64    0       0.0       24   \n",
       "Dep_Time_Minutes       int64    0       0.0       12   \n",
       "Arrival_Time_Hours     int64    0       0.0       24   \n",
       "Arrival_Time_Minutes   int64    0       0.0       12   \n",
       "Duration_Hours         int32    0       0.0       44   \n",
       "Duration_Minutes       int32    0       0.0       12   \n",
       "Route_1               object    0       0.0        5   \n",
       "Route_2               object    0       0.0       45   \n",
       "Route_3               object    0       0.0       30   \n",
       "Route_4               object    0       0.0       14   \n",
       "Route_5               object    0       0.0        6   \n",
       "\n",
       "                                                                 unique  \n",
       "Airline               [Jet Airways, IndiGo, Air India, Multiple carr...  \n",
       "Source                      [Delhi, Kolkata, Banglore, Mumbai, Chennai]  \n",
       "Destination           [Cochin, Banglore, Delhi, New Delhi, Hyderabad...  \n",
       "Total_Stops                                             [1, 0, 2, 3, 4]  \n",
       "Price                 [10262, 10844, 7229, 4804, 4823, 14714, 3943, ...  \n",
       "Journey_Day                            [6, 5, 3, 27, 21, 24, 15, 18, 4]  \n",
       "Journey_Month                                    [6, 3, 5, 9, 1, 12, 4]  \n",
       "Dep_Time_Hours        [9, 7, 8, 17, 6, 20, 5, 11, 19, 10, 14, 21, 16...  \n",
       "Dep_Time_Minutes         [0, 30, 55, 10, 45, 5, 15, 25, 20, 35, 50, 40]  \n",
       "Arrival_Time_Hours    [19, 12, 4, 21, 22, 1, 18, 9, 23, 10, 8, 7, 20...  \n",
       "Arrival_Time_Minutes     [0, 25, 15, 35, 20, 30, 50, 45, 5, 40, 10, 55]  \n",
       "Duration_Hours        [2, 1, 3, 7, 5, 9, 12, 8, 13, 11, 10, 6, 14, 1...  \n",
       "Duration_Minutes         [30, 0, 20, 50, 35, 55, 15, 45, 25, 40, 5, 10]  \n",
       "Route_1                                  [DEL , CCU , BLR , BOM , MAA ]  \n",
       "Route_2               [ BOM ,  DEL,  BLR,  DEL ,  HYD,  HYD ,  CCU, ...  \n",
       "Route_3               [None,  COK,  BLR,  BOM ,  DEL,  DEL ,  MAA , ...  \n",
       "Route_4               [None,  COK,  BLR,  DEL,  HYD,  BOM ,  DEL ,  ...  \n",
       "Route_5                           [None,  COK,  BLR,  DEL,  HYD,  VGA ]  "
      ]
     },
     "metadata": {},
     "output_type": "display_data"
    }
   ],
   "source": [
    "summary(train_data)"
   ]
  },
  {
   "cell_type": "code",
   "execution_count": 66,
   "metadata": {},
   "outputs": [
    {
     "data": {
      "text/plain": [
       "Index(['Airline', 'Source', 'Destination', 'Total_Stops', 'Price',\n",
       "       'Journey_Day', 'Journey_Month', 'Dep_Time_Hours', 'Dep_Time_Minutes',\n",
       "       'Arrival_Time_Hours', 'Arrival_Time_Minutes', 'Duration_Hours',\n",
       "       'Duration_Minutes', 'Route_1', 'Route_2', 'Route_3', 'Route_4',\n",
       "       'Route_5'],\n",
       "      dtype='object')"
      ]
     },
     "execution_count": 66,
     "metadata": {},
     "output_type": "execute_result"
    }
   ],
   "source": [
    "train_data.columns"
   ]
  },
  {
   "cell_type": "code",
   "execution_count": 67,
   "metadata": {},
   "outputs": [
    {
     "data": {
      "text/html": [
       "<div>\n",
       "<style scoped>\n",
       "    .dataframe tbody tr th:only-of-type {\n",
       "        vertical-align: middle;\n",
       "    }\n",
       "\n",
       "    .dataframe tbody tr th {\n",
       "        vertical-align: top;\n",
       "    }\n",
       "\n",
       "    .dataframe thead th {\n",
       "        text-align: right;\n",
       "    }\n",
       "</style>\n",
       "<table border=\"1\" class=\"dataframe\">\n",
       "  <thead>\n",
       "    <tr style=\"text-align: right;\">\n",
       "      <th></th>\n",
       "      <th>Total_Stops</th>\n",
       "      <th>Journey_Day</th>\n",
       "      <th>Journey_Month</th>\n",
       "      <th>Dep_Time_Hours</th>\n",
       "      <th>Dep_Time_Minutes</th>\n",
       "      <th>Arrival_Time_Hours</th>\n",
       "      <th>Arrival_Time_Minutes</th>\n",
       "      <th>Duration_Hours</th>\n",
       "      <th>Duration_Minutes</th>\n",
       "    </tr>\n",
       "  </thead>\n",
       "  <tbody>\n",
       "    <tr>\n",
       "      <th>0</th>\n",
       "      <td>0</td>\n",
       "      <td>24</td>\n",
       "      <td>3</td>\n",
       "      <td>22</td>\n",
       "      <td>20</td>\n",
       "      <td>1</td>\n",
       "      <td>10</td>\n",
       "      <td>2</td>\n",
       "      <td>50</td>\n",
       "    </tr>\n",
       "    <tr>\n",
       "      <th>1</th>\n",
       "      <td>2</td>\n",
       "      <td>5</td>\n",
       "      <td>1</td>\n",
       "      <td>5</td>\n",
       "      <td>50</td>\n",
       "      <td>13</td>\n",
       "      <td>15</td>\n",
       "      <td>7</td>\n",
       "      <td>25</td>\n",
       "    </tr>\n",
       "    <tr>\n",
       "      <th>2</th>\n",
       "      <td>2</td>\n",
       "      <td>6</td>\n",
       "      <td>9</td>\n",
       "      <td>9</td>\n",
       "      <td>25</td>\n",
       "      <td>4</td>\n",
       "      <td>25</td>\n",
       "      <td>19</td>\n",
       "      <td>0</td>\n",
       "    </tr>\n",
       "  </tbody>\n",
       "</table>\n",
       "</div>"
      ],
      "text/plain": [
       "   Total_Stops  Journey_Day  Journey_Month  Dep_Time_Hours  Dep_Time_Minutes  \\\n",
       "0            0           24              3              22                20   \n",
       "1            2            5              1               5                50   \n",
       "2            2            6              9               9                25   \n",
       "\n",
       "   Arrival_Time_Hours  Arrival_Time_Minutes  Duration_Hours  Duration_Minutes  \n",
       "0                   1                    10               2                50  \n",
       "1                  13                    15               7                25  \n",
       "2                   4                    25              19                 0  "
      ]
     },
     "execution_count": 67,
     "metadata": {},
     "output_type": "execute_result"
    }
   ],
   "source": [
    "num_cols = train_data.select_dtypes('number').drop('Price', axis=1).columns\n",
    "train_data[num_cols].head(3)"
   ]
  },
  {
   "cell_type": "code",
   "execution_count": 68,
   "metadata": {},
   "outputs": [
    {
     "data": {
      "text/html": [
       "<div>\n",
       "<style scoped>\n",
       "    .dataframe tbody tr th:only-of-type {\n",
       "        vertical-align: middle;\n",
       "    }\n",
       "\n",
       "    .dataframe tbody tr th {\n",
       "        vertical-align: top;\n",
       "    }\n",
       "\n",
       "    .dataframe thead th {\n",
       "        text-align: right;\n",
       "    }\n",
       "</style>\n",
       "<table border=\"1\" class=\"dataframe\">\n",
       "  <thead>\n",
       "    <tr style=\"text-align: right;\">\n",
       "      <th></th>\n",
       "      <th>Source</th>\n",
       "      <th>Destination</th>\n",
       "    </tr>\n",
       "  </thead>\n",
       "  <tbody>\n",
       "    <tr>\n",
       "      <th>0</th>\n",
       "      <td>Banglore</td>\n",
       "      <td>New Delhi</td>\n",
       "    </tr>\n",
       "    <tr>\n",
       "      <th>1</th>\n",
       "      <td>Kolkata</td>\n",
       "      <td>Banglore</td>\n",
       "    </tr>\n",
       "    <tr>\n",
       "      <th>2</th>\n",
       "      <td>Delhi</td>\n",
       "      <td>Cochin</td>\n",
       "    </tr>\n",
       "  </tbody>\n",
       "</table>\n",
       "</div>"
      ],
      "text/plain": [
       "     Source Destination\n",
       "0  Banglore   New Delhi\n",
       "1   Kolkata    Banglore\n",
       "2     Delhi      Cochin"
      ]
     },
     "execution_count": 68,
     "metadata": {},
     "output_type": "execute_result"
    }
   ],
   "source": [
    "onehot_cols = ['Source', 'Destination']\n",
    "train_data[onehot_cols].head(3)"
   ]
  },
  {
   "cell_type": "code",
   "execution_count": 69,
   "metadata": {},
   "outputs": [
    {
     "data": {
      "text/html": [
       "<div>\n",
       "<style scoped>\n",
       "    .dataframe tbody tr th:only-of-type {\n",
       "        vertical-align: middle;\n",
       "    }\n",
       "\n",
       "    .dataframe tbody tr th {\n",
       "        vertical-align: top;\n",
       "    }\n",
       "\n",
       "    .dataframe thead th {\n",
       "        text-align: right;\n",
       "    }\n",
       "</style>\n",
       "<table border=\"1\" class=\"dataframe\">\n",
       "  <thead>\n",
       "    <tr style=\"text-align: right;\">\n",
       "      <th></th>\n",
       "      <th>Airline</th>\n",
       "      <th>Route_1</th>\n",
       "      <th>Route_2</th>\n",
       "      <th>Route_3</th>\n",
       "      <th>Route_4</th>\n",
       "      <th>Route_5</th>\n",
       "    </tr>\n",
       "  </thead>\n",
       "  <tbody>\n",
       "    <tr>\n",
       "      <th>0</th>\n",
       "      <td>IndiGo</td>\n",
       "      <td>BLR</td>\n",
       "      <td>DEL</td>\n",
       "      <td>None</td>\n",
       "      <td>None</td>\n",
       "      <td>None</td>\n",
       "    </tr>\n",
       "    <tr>\n",
       "      <th>1</th>\n",
       "      <td>Air India</td>\n",
       "      <td>CCU</td>\n",
       "      <td>IXR</td>\n",
       "      <td>BBI</td>\n",
       "      <td>BLR</td>\n",
       "      <td>None</td>\n",
       "    </tr>\n",
       "    <tr>\n",
       "      <th>2</th>\n",
       "      <td>Jet Airways</td>\n",
       "      <td>DEL</td>\n",
       "      <td>LKO</td>\n",
       "      <td>BOM</td>\n",
       "      <td>COK</td>\n",
       "      <td>None</td>\n",
       "    </tr>\n",
       "  </tbody>\n",
       "</table>\n",
       "</div>"
      ],
      "text/plain": [
       "       Airline Route_1 Route_2 Route_3 Route_4 Route_5\n",
       "0       IndiGo    BLR      DEL    None    None    None\n",
       "1    Air India    CCU     IXR     BBI      BLR    None\n",
       "2  Jet Airways    DEL     LKO     BOM      COK    None"
      ]
     },
     "execution_count": 69,
     "metadata": {},
     "output_type": "execute_result"
    }
   ],
   "source": [
    "bin_cols = ['Airline', 'Route_1', 'Route_2', 'Route_3', 'Route_4','Route_5']\n",
    "train_data[bin_cols].head(3)"
   ]
  },
  {
   "cell_type": "markdown",
   "metadata": {},
   "source": [
    "## B. Data Splitting"
   ]
  },
  {
   "cell_type": "code",
   "execution_count": 70,
   "metadata": {},
   "outputs": [],
   "source": [
    "X = train_data.drop('Price', axis=1)\n",
    "y = train_data['Price']"
   ]
  },
  {
   "cell_type": "code",
   "execution_count": 71,
   "metadata": {},
   "outputs": [],
   "source": [
    "X_train, X_test, y_train, y_test = train_test_split(X, y, test_size=.2, random_state=2021)"
   ]
  },
  {
   "cell_type": "code",
   "execution_count": 72,
   "metadata": {},
   "outputs": [
    {
     "name": "stdout",
     "output_type": "stream",
     "text": [
      "(8545, 17)\n",
      "(2137, 17)\n",
      "(8545,)\n",
      "(2137,)\n"
     ]
    }
   ],
   "source": [
    "for i in X_train, X_test, y_train, y_test :\n",
    "    print(i.shape)"
   ]
  },
  {
   "cell_type": "markdown",
   "metadata": {},
   "source": [
    "## C. Parameter Setting"
   ]
  },
  {
   "cell_type": "markdown",
   "metadata": {},
   "source": [
    "### Column Transformer"
   ]
  },
  {
   "cell_type": "markdown",
   "metadata": {},
   "source": [
    "As mentioned before, the pipeline is started with the column transformer. Here, three column transformers that can be used in the pipeline :\n",
    "- __numscaled_pipe__, is used for transforming all numerical features in the KNN Regressor algorithm only.\n",
    "- __onehote_pipe__, is used for transforming categrical features using One-Hot Encoder.\n",
    "- __binary_pipe__, is used for transforming categorical features using BinaryEncoder."
   ]
  },
  {
   "cell_type": "code",
   "execution_count": 73,
   "metadata": {},
   "outputs": [],
   "source": [
    "numscaled_pipe = Pipeline([\n",
    "    ('scaler', RobustScaler())\n",
    "])\n",
    "\n",
    "onehot_pipe = Pipeline([\n",
    "    ('onehot', OneHotEncoder(drop='first'))\n",
    "])\n",
    "\n",
    "binary_pipe = Pipeline([\n",
    "    ('binary', ce.BinaryEncoder())\n",
    "])"
   ]
  },
  {
   "cell_type": "markdown",
   "metadata": {},
   "source": [
    "### Cross Validation Parameters"
   ]
  },
  {
   "cell_type": "code",
   "execution_count": 74,
   "metadata": {},
   "outputs": [],
   "source": [
    "kf = KFold(n_splits=5, random_state=2021, shuffle=True)"
   ]
  },
  {
   "cell_type": "markdown",
   "metadata": {},
   "source": [
    "### Model Evaluation Function"
   ]
  },
  {
   "cell_type": "code",
   "execution_count": 75,
   "metadata": {},
   "outputs": [],
   "source": [
    "def cross_val_result(model_score, model_name) :\n",
    "    plt.figure(figsize=(8,5))\n",
    "    plt.plot(np.arange(1,6,1), model_score, marker='o', color='teal', \n",
    "             label=f'R2 (mean = {round(abs(model_score.mean()), 2)})')\n",
    "    plt.title('Cross Validation Score of {}'.format(model_name), fontweight='bold')\n",
    "    plt.xlabel('Fold')\n",
    "    plt.ylabel('Score')\n",
    "    plt.xticks(np.arange(1,6,1))\n",
    "    plt.legend()\n",
    "    plt.show()"
   ]
  },
  {
   "cell_type": "code",
   "execution_count": 76,
   "metadata": {},
   "outputs": [],
   "source": [
    "def evaluation_model(test, pred) :\n",
    "    residual = test-pred\n",
    "\n",
    "    fig=plt.figure(figsize=(15, 5))\n",
    "\n",
    "    plt.subplot(1, 2, 1)\n",
    "    sns.histplot(residual, kde=True, stat='density', element='step', color='teal')\n",
    "\n",
    "\n",
    "    plt.subplot(1, 2, 2)\n",
    "    sns.boxplot(x=residual, color='teal')\n",
    "\n",
    "    fig.suptitle('Residual Distribution', fontsize='16', fontweight='bold')\n",
    "    plt.show()\n",
    "\n",
    "    print('R2 :', r2_score(test, pred))\n",
    "    print('RMSE:', np.sqrt(mean_squared_error(test, pred)))\n",
    "    print('MAE :', mean_absolute_error(test, pred))"
   ]
  },
  {
   "cell_type": "markdown",
   "metadata": {},
   "source": [
    "## D. Ridge Performance"
   ]
  },
  {
   "cell_type": "markdown",
   "metadata": {},
   "source": [
    "### Ridge Pipeline"
   ]
  },
  {
   "cell_type": "code",
   "execution_count": 77,
   "metadata": {},
   "outputs": [],
   "source": [
    "ridge_transformer = ColumnTransformer([\n",
    "    ('binary_pipe', binary_pipe, bin_cols),\n",
    "    ('onehot_pipe', onehot_pipe, onehot_cols), \n",
    "], remainder='passthrough')\n",
    "\n",
    "ridge_pipe = Pipeline([\n",
    "    ('transformer', ridge_transformer),\n",
    "    ('ridge', Ridge(alpha=1, random_state=2021))\n",
    "])"
   ]
  },
  {
   "cell_type": "markdown",
   "metadata": {},
   "source": [
    "### Cross Validation Score "
   ]
  },
  {
   "cell_type": "code",
   "execution_count": 78,
   "metadata": {},
   "outputs": [],
   "source": [
    "ridge_score = cross_val_score(ridge_pipe, X_train, y_train, scoring='r2', cv=kf, n_jobs=-1)"
   ]
  },
  {
   "cell_type": "code",
   "execution_count": 79,
   "metadata": {
    "scrolled": false
   },
   "outputs": [
    {
     "data": {
      "image/png": "[encoded data removed]",
      "text/plain": [
       "<Figure size 576x360 with 1 Axes>"
      ]
     },
     "metadata": {
      "needs_background": "light"
     },
     "output_type": "display_data"
    }
   ],
   "source": [
    "cross_val_result(ridge_score, 'Ridge')"
   ]
  },
  {
   "cell_type": "markdown",
   "metadata": {},
   "source": [
    "### Test Score"
   ]
  },
  {
   "cell_type": "code",
   "execution_count": 83,
   "metadata": {},
   "outputs": [],
   "source": [
    "ridge_default = ridge_pipe.fit(X_train, y_train)\n",
    "y_pred_ridge_default = ridge_default.predict(X_test)"
   ]
  },
  {
   "cell_type": "code",
   "execution_count": 84,
   "metadata": {},
   "outputs": [
    {
     "data": {
      "image/png": "[encoded data removed]",
      "text/plain": [
       "<Figure size 1080x360 with 2 Axes>"
      ]
     },
     "metadata": {
      "needs_background": "light"
     },
     "output_type": "display_data"
    },
    {
     "name": "stdout",
     "output_type": "stream",
     "text": [
      "R2 : 0.61943743976457\n",
      "RMSE: 2800.807142513577\n",
      "MAE : 1952.2703831319993\n"
     ]
    }
   ],
   "source": [
    "evaluation_model(y_test, y_pred_ridge_default)"
   ]
  },
  {
   "cell_type": "markdown",
   "metadata": {},
   "source": [
    "## E. KNN Regressor Performance"
   ]
  },
  {
   "cell_type": "markdown",
   "metadata": {},
   "source": [
    "### KNN Regressor Pipeline"
   ]
  },
  {
   "cell_type": "code",
   "execution_count": 85,
   "metadata": {},
   "outputs": [],
   "source": [
    "knn_transformer = ColumnTransformer([\n",
    "    ('num_pipe', numscaled_pipe, num_cols),\n",
    "    ('binary_pipe', binary_pipe, bin_cols),\n",
    "    ('onehot_pipe', onehot_pipe, onehot_cols), \n",
    "], remainder='passthrough')\n",
    "\n",
    "knn_pipe = Pipeline([\n",
    "    ('transformer', knn_transformer),\n",
    "    ('knn', KNeighborsRegressor())\n",
    "])"
   ]
  },
  {
   "cell_type": "markdown",
   "metadata": {},
   "source": [
    "### Cross Validation Score"
   ]
  },
  {
   "cell_type": "code",
   "execution_count": 86,
   "metadata": {},
   "outputs": [],
   "source": [
    "knn_score = cross_val_score(knn_pipe, X_train, y_train, scoring='r2', cv=kf, n_jobs=-1)"
   ]
  },
  {
   "cell_type": "code",
   "execution_count": 87,
   "metadata": {
    "scrolled": true
   },
   "outputs": [
    {
     "data": {
      "image/png": "[encoded data removed]",
      "text/plain": [
       "<Figure size 576x360 with 1 Axes>"
      ]
     },
     "metadata": {
      "needs_background": "light"
     },
     "output_type": "display_data"
    }
   ],
   "source": [
    "cross_val_result(knn_score, 'KNN')"
   ]
  },
  {
   "cell_type": "markdown",
   "metadata": {},
   "source": [
    "### Test Score"
   ]
  },
  {
   "cell_type": "code",
   "execution_count": 88,
   "metadata": {},
   "outputs": [],
   "source": [
    "knn_default = knn_pipe.fit(X_train, y_train)\n",
    "y_pred_knn_default = knn_default.predict(X_test)"
   ]
  },
  {
   "cell_type": "code",
   "execution_count": 89,
   "metadata": {},
   "outputs": [
    {
     "data": {
      "image/png": "[encoded data removed]",
      "text/plain": [
       "<Figure size 1080x360 with 2 Axes>"
      ]
     },
     "metadata": {
      "needs_background": "light"
     },
     "output_type": "display_data"
    },
    {
     "name": "stdout",
     "output_type": "stream",
     "text": [
      "R2 : 0.7747556416802462\n",
      "RMSE: 2154.7512247369486\n",
      "MAE : 1443.831352363126\n"
     ]
    }
   ],
   "source": [
    "evaluation_model(y_test, y_pred_knn_default)"
   ]
  },
  {
   "cell_type": "markdown",
   "metadata": {},
   "source": [
    "## F. Random Forest Regressor Performance"
   ]
  },
  {
   "cell_type": "markdown",
   "metadata": {},
   "source": [
    "### Random Forest Regressor Pipeline"
   ]
  },
  {
   "cell_type": "code",
   "execution_count": 90,
   "metadata": {},
   "outputs": [],
   "source": [
    "rfr_transformer = ColumnTransformer([\n",
    "    ('binary_pipe', binary_pipe, bin_cols),\n",
    "    ('onehot_pipe', onehot_pipe, onehot_cols), \n",
    "], remainder='passthrough')\n",
    "\n",
    "rfr_pipe = Pipeline([\n",
    "    ('transformer', ridge_transformer),\n",
    "    ('rfr', RandomForestRegressor(random_state=2021))\n",
    "])"
   ]
  },
  {
   "cell_type": "markdown",
   "metadata": {},
   "source": [
    "### Cross Validation Score"
   ]
  },
  {
   "cell_type": "code",
   "execution_count": 91,
   "metadata": {},
   "outputs": [],
   "source": [
    "rfr_score = cross_val_score(rfr_pipe, X_train, y_train, scoring='r2', cv=kf, n_jobs=-1)"
   ]
  },
  {
   "cell_type": "code",
   "execution_count": 92,
   "metadata": {
    "scrolled": false
   },
   "outputs": [
    {
     "data": {
      "image/png": "[encoded data removed]",
      "text/plain": [
       "<Figure size 576x360 with 1 Axes>"
      ]
     },
     "metadata": {
      "needs_background": "light"
     },
     "output_type": "display_data"
    }
   ],
   "source": [
    "cross_val_result(rfr_score, 'Random Forest')"
   ]
  },
  {
   "cell_type": "markdown",
   "metadata": {},
   "source": [
    "### Test Score"
   ]
  },
  {
   "cell_type": "code",
   "execution_count": 93,
   "metadata": {},
   "outputs": [],
   "source": [
    "rfr_default = rfr_pipe.fit(X_train, y_train)\n",
    "y_pred_rfr_default = rfr_default.predict(X_test)"
   ]
  },
  {
   "cell_type": "code",
   "execution_count": 94,
   "metadata": {
    "scrolled": false
   },
   "outputs": [
    {
     "data": {
      "image/png": "[encoded data removed]",
      "text/plain": [
       "<Figure size 1080x360 with 2 Axes>"
      ]
     },
     "metadata": {
      "needs_background": "light"
     },
     "output_type": "display_data"
    },
    {
     "name": "stdout",
     "output_type": "stream",
     "text": [
      "R2 : 0.8205237846318412\n",
      "RMSE: 1923.4177815719272\n",
      "MAE : 1178.082420094386\n"
     ]
    }
   ],
   "source": [
    "evaluation_model(y_test, y_pred_rfr_default)"
   ]
  },
  {
   "cell_type": "markdown",
   "metadata": {},
   "source": [
    "## G. Benchmark Models Comparison"
   ]
  },
  {
   "cell_type": "code",
   "execution_count": 95,
   "metadata": {},
   "outputs": [],
   "source": [
    "summary_model = pd.DataFrame()\n",
    "summary_model['Models'] = ['Ridge', 'Ridge', 'Ridge', 'KNN', 'KNN', 'KNN', 'Random Forest', 'Random Forest', 'Random Forest']\n",
    "summary_model['Metrics'] = ['R2', 'RMSE', 'MAE']*3\n",
    "model_score = []\n",
    "for i in [y_pred_ridge_default, y_pred_knn_default, y_pred_rfr_default] :\n",
    "    model_score.extend([r2_score(y_test, i), np.sqrt(mean_squared_error(y_test, i)), mean_absolute_error(y_test, i)])\n",
    "summary_model['Scores'] = model_score"
   ]
  },
  {
   "cell_type": "code",
   "execution_count": 100,
   "metadata": {
    "scrolled": false
   },
   "outputs": [
    {
     "data": {
      "text/html": [
       "<div>\n",
       "<style scoped>\n",
       "    .dataframe tbody tr th:only-of-type {\n",
       "        vertical-align: middle;\n",
       "    }\n",
       "\n",
       "    .dataframe tbody tr th {\n",
       "        vertical-align: top;\n",
       "    }\n",
       "\n",
       "    .dataframe thead th {\n",
       "        text-align: right;\n",
       "    }\n",
       "</style>\n",
       "<table border=\"1\" class=\"dataframe\">\n",
       "  <thead>\n",
       "    <tr style=\"text-align: right;\">\n",
       "      <th>Metrics</th>\n",
       "      <th>MAE</th>\n",
       "      <th>R2</th>\n",
       "      <th>RMSE</th>\n",
       "    </tr>\n",
       "    <tr>\n",
       "      <th>Models</th>\n",
       "      <th></th>\n",
       "      <th></th>\n",
       "      <th></th>\n",
       "    </tr>\n",
       "  </thead>\n",
       "  <tbody>\n",
       "    <tr>\n",
       "      <th>Random Forest</th>\n",
       "      <td>1178.082420</td>\n",
       "      <td>0.820524</td>\n",
       "      <td>1923.417782</td>\n",
       "    </tr>\n",
       "    <tr>\n",
       "      <th>KNN</th>\n",
       "      <td>1443.831352</td>\n",
       "      <td>0.774756</td>\n",
       "      <td>2154.751225</td>\n",
       "    </tr>\n",
       "    <tr>\n",
       "      <th>Ridge</th>\n",
       "      <td>1952.270383</td>\n",
       "      <td>0.619437</td>\n",
       "      <td>2800.807143</td>\n",
       "    </tr>\n",
       "  </tbody>\n",
       "</table>\n",
       "</div>"
      ],
      "text/plain": [
       "Metrics                MAE        R2         RMSE\n",
       "Models                                           \n",
       "Random Forest  1178.082420  0.820524  1923.417782\n",
       "KNN            1443.831352  0.774756  2154.751225\n",
       "Ridge          1952.270383  0.619437  2800.807143"
      ]
     },
     "execution_count": 100,
     "metadata": {},
     "output_type": "execute_result"
    }
   ],
   "source": [
    "summary_model.pivot(index='Models', columns='Metrics', values='Scores').sort_values('MAE')"
   ]
  },
  {
   "cell_type": "markdown",
   "metadata": {},
   "source": [
    "After running the machine learning algorithms with default parameters, each alhorithm results evaluation metric scores (MAE, R2, RMSE) shown in table above. Because in the Residual Distribution plot of each algorithm results many outliers, I will focus on the MAE score as evaluation metric. Where, the MAE is less sensitive to outliers in the residual. \n",
    "\n",
    "The best model is the model that has the smallest MAE score. Based on the table above, Random Forest has the smallest MAE score and become the best model. Not only has smallest MAE score, but also Random Forest has the highest R2 score and the smallest RMSE score. For the next step, The Random Forest algorithm will be continued to Hyperparameter Tuning process. In that step, We find the best parameters to increace the MAE score."
   ]
  },
  {
   "cell_type": "markdown",
   "metadata": {},
   "source": [
    "## H. Hyperparameter Tuning of Random Forest Regressor "
   ]
  },
  {
   "cell_type": "code",
   "execution_count": 134,
   "metadata": {
    "scrolled": false
   },
   "outputs": [
    {
     "data": {
      "text/plain": [
       "{'memory': None,\n",
       " 'steps': [('transformer',\n",
       "   ColumnTransformer(remainder='passthrough',\n",
       "                     transformers=[('binary_pipe',\n",
       "                                    Pipeline(steps=[('binary', BinaryEncoder())]),\n",
       "                                    ['Airline', 'Route_1', 'Route_2', 'Route_3',\n",
       "                                     'Route_4', 'Route_5']),\n",
       "                                   ('onehot_pipe',\n",
       "                                    Pipeline(steps=[('onehot',\n",
       "                                                     OneHotEncoder(drop='first'))]),\n",
       "                                    ['Source', 'Destination'])])),\n",
       "  ('rfr', RandomForestRegressor(random_state=2021))],\n",
       " 'verbose': False,\n",
       " 'transformer': ColumnTransformer(remainder='passthrough',\n",
       "                   transformers=[('binary_pipe',\n",
       "                                  Pipeline(steps=[('binary', BinaryEncoder())]),\n",
       "                                  ['Airline', 'Route_1', 'Route_2', 'Route_3',\n",
       "                                   'Route_4', 'Route_5']),\n",
       "                                 ('onehot_pipe',\n",
       "                                  Pipeline(steps=[('onehot',\n",
       "                                                   OneHotEncoder(drop='first'))]),\n",
       "                                  ['Source', 'Destination'])]),\n",
       " 'rfr': RandomForestRegressor(random_state=2021),\n",
       " 'transformer__n_jobs': None,\n",
       " 'transformer__remainder': 'passthrough',\n",
       " 'transformer__sparse_threshold': 0.3,\n",
       " 'transformer__transformer_weights': None,\n",
       " 'transformer__transformers': [('binary_pipe',\n",
       "   Pipeline(steps=[('binary', BinaryEncoder())]),\n",
       "   ['Airline', 'Route_1', 'Route_2', 'Route_3', 'Route_4', 'Route_5']),\n",
       "  ('onehot_pipe',\n",
       "   Pipeline(steps=[('onehot', OneHotEncoder(drop='first'))]),\n",
       "   ['Source', 'Destination'])],\n",
       " 'transformer__verbose': False,\n",
       " 'transformer__binary_pipe': Pipeline(steps=[('binary', BinaryEncoder())]),\n",
       " 'transformer__onehot_pipe': Pipeline(steps=[('onehot', OneHotEncoder(drop='first'))]),\n",
       " 'transformer__binary_pipe__memory': None,\n",
       " 'transformer__binary_pipe__steps': [('binary', BinaryEncoder())],\n",
       " 'transformer__binary_pipe__verbose': False,\n",
       " 'transformer__binary_pipe__binary': BinaryEncoder(),\n",
       " 'transformer__binary_pipe__binary__cols': None,\n",
       " 'transformer__binary_pipe__binary__drop_invariant': False,\n",
       " 'transformer__binary_pipe__binary__handle_missing': 'value',\n",
       " 'transformer__binary_pipe__binary__handle_unknown': 'value',\n",
       " 'transformer__binary_pipe__binary__mapping': None,\n",
       " 'transformer__binary_pipe__binary__return_df': True,\n",
       " 'transformer__binary_pipe__binary__verbose': 0,\n",
       " 'transformer__onehot_pipe__memory': None,\n",
       " 'transformer__onehot_pipe__steps': [('onehot', OneHotEncoder(drop='first'))],\n",
       " 'transformer__onehot_pipe__verbose': False,\n",
       " 'transformer__onehot_pipe__onehot': OneHotEncoder(drop='first'),\n",
       " 'transformer__onehot_pipe__onehot__categories': 'auto',\n",
       " 'transformer__onehot_pipe__onehot__drop': 'first',\n",
       " 'transformer__onehot_pipe__onehot__dtype': numpy.float64,\n",
       " 'transformer__onehot_pipe__onehot__handle_unknown': 'error',\n",
       " 'transformer__onehot_pipe__onehot__sparse': True,\n",
       " 'rfr__bootstrap': True,\n",
       " 'rfr__ccp_alpha': 0.0,\n",
       " 'rfr__criterion': 'mse',\n",
       " 'rfr__max_depth': None,\n",
       " 'rfr__max_features': 'auto',\n",
       " 'rfr__max_leaf_nodes': None,\n",
       " 'rfr__max_samples': None,\n",
       " 'rfr__min_impurity_decrease': 0.0,\n",
       " 'rfr__min_impurity_split': None,\n",
       " 'rfr__min_samples_leaf': 1,\n",
       " 'rfr__min_samples_split': 2,\n",
       " 'rfr__min_weight_fraction_leaf': 0.0,\n",
       " 'rfr__n_estimators': 100,\n",
       " 'rfr__n_jobs': None,\n",
       " 'rfr__oob_score': False,\n",
       " 'rfr__random_state': 2021,\n",
       " 'rfr__verbose': 0,\n",
       " 'rfr__warm_start': False}"
      ]
     },
     "execution_count": 134,
     "metadata": {},
     "output_type": "execute_result"
    }
   ],
   "source": [
    "rfr_pipe.get_params()"
   ]
  },
  {
   "cell_type": "markdown",
   "metadata": {},
   "source": [
    "Hyperparameter Tuning is processed by GridSearchCV. This method helps to loop through predefined hyperparameters and fit the model. In the end, We can get the best parameters from the listed hyperparameters. The listed hyperparameters can be seen in the rfr_params variable below."
   ]
  },
  {
   "cell_type": "code",
   "execution_count": 140,
   "metadata": {},
   "outputs": [
    {
     "name": "stdout",
     "output_type": "stream",
     "text": [
      "Fitting 5 folds for each of 135 candidates, totalling 675 fits\n"
     ]
    },
    {
     "name": "stderr",
     "output_type": "stream",
     "text": [
      "[Parallel(n_jobs=-1)]: Using backend LokyBackend with 4 concurrent workers.\n",
      "[Parallel(n_jobs=-1)]: Done  33 tasks      | elapsed:  2.3min\n",
      "[Parallel(n_jobs=-1)]: Done 154 tasks      | elapsed: 10.8min\n",
      "[Parallel(n_jobs=-1)]: Done 357 tasks      | elapsed: 29.7min\n",
      "[Parallel(n_jobs=-1)]: Done 640 tasks      | elapsed: 57.8min\n",
      "[Parallel(n_jobs=-1)]: Done 675 out of 675 | elapsed: 61.8min finished\n"
     ]
    },
    {
     "data": {
      "text/plain": [
       "GridSearchCV(cv=KFold(n_splits=5, random_state=2021, shuffle=True),\n",
       "             estimator=Pipeline(steps=[('transformer',\n",
       "                                        ColumnTransformer(remainder='passthrough',\n",
       "                                                          transformers=[('binary_pipe',\n",
       "                                                                         Pipeline(steps=[('binary',\n",
       "                                                                                          BinaryEncoder())]),\n",
       "                                                                         ['Airline',\n",
       "                                                                          'Route_1',\n",
       "                                                                          'Route_2',\n",
       "                                                                          'Route_3',\n",
       "                                                                          'Route_4',\n",
       "                                                                          'Route_5']),\n",
       "                                                                        ('onehot_pipe',\n",
       "                                                                         Pipeline(steps=[('onehot',\n",
       "                                                                                          OneHotEncoder(drop='first'))]),\n",
       "                                                                         ['Source',\n",
       "                                                                          'Destination'])])),\n",
       "                                       ('rfr',\n",
       "                                        RandomForestRegressor(random_state=2021))]),\n",
       "             n_jobs=-1,\n",
       "             param_grid={'rfr__max_depth': array([ 6,  8, 10, 12, 14]),\n",
       "                         'rfr__min_samples_leaf': [1, 2, 5],\n",
       "                         'rfr__min_samples_split': [2, 5, 10],\n",
       "                         'rfr__n_estimators': [100, 500, 1000]},\n",
       "             scoring='neg_mean_absolute_error', verbose=2)"
      ]
     },
     "execution_count": 140,
     "metadata": {},
     "output_type": "execute_result"
    }
   ],
   "source": [
    "rfr_params = {\n",
    "    'rfr__max_depth': np.arange(6, 16, 2),\n",
    "    'rfr__min_samples_split': [2, 5, 10],\n",
    "    'rfr__min_samples_leaf': [1, 2, 5],\n",
    "    'rfr__n_estimators': [100, 500, 1000]\n",
    "}\n",
    "\n",
    "grid_rfr = GridSearchCV(\n",
    "    rfr_pipe, # model yang mau di tune\n",
    "    param_grid = rfr_params, # hyperparameter option\n",
    "    cv = kf, # evaluation method\n",
    "    scoring = 'neg_mean_absolute_error', # metrics\n",
    "    n_jobs = -1,\n",
    "    verbose = 2\n",
    ")\n",
    " \n",
    "grid_rfr.fit(X_train, y_train)"
   ]
  },
  {
   "cell_type": "code",
   "execution_count": 141,
   "metadata": {
    "scrolled": true
   },
   "outputs": [
    {
     "data": {
      "text/plain": [
       "{'rfr__max_depth': 14,\n",
       " 'rfr__min_samples_leaf': 1,\n",
       " 'rfr__min_samples_split': 2,\n",
       " 'rfr__n_estimators': 500}"
      ]
     },
     "execution_count": 141,
     "metadata": {},
     "output_type": "execute_result"
    }
   ],
   "source": [
    "grid_rfr.best_params_"
   ]
  },
  {
   "cell_type": "code",
   "execution_count": 143,
   "metadata": {},
   "outputs": [],
   "source": [
    "rfr_tuned = grid_rfr.best_estimator_.fit(X_train, y_train)\n",
    "y_pred_rfr_tuned = rfr_tuned.predict(X_test)"
   ]
  },
  {
   "cell_type": "code",
   "execution_count": 144,
   "metadata": {
    "scrolled": false
   },
   "outputs": [
    {
     "data": {
      "image/png": "[encoded data removed]",
      "text/plain": [
       "<Figure size 1080x360 with 2 Axes>"
      ]
     },
     "metadata": {
      "needs_background": "light"
     },
     "output_type": "display_data"
    },
    {
     "name": "stdout",
     "output_type": "stream",
     "text": [
      "R2 : 0.8533943647357356\n",
      "RMSE: 1738.3831641313207\n",
      "MAE : 1095.3583359410964\n"
     ]
    }
   ],
   "source": [
    "evaluation_model(y_test, y_pred_rfr_tuned)"
   ]
  },
  {
   "cell_type": "markdown",
   "metadata": {},
   "source": [
    "After processing hyperparameter tuning step, We can see that the MAE score has decreased from 1178.08 to 1095.35. This Random Forest with hyperparameter tuned model could be implemented on the deployment if needed."
   ]
  },
  {
   "cell_type": "markdown",
   "metadata": {},
   "source": [
    "## I. Save The Best Model"
   ]
  },
  {
   "cell_type": "code",
   "execution_count": 148,
   "metadata": {},
   "outputs": [],
   "source": [
    "rfr_tuned.fit(X, y)\n",
    "filename = 'Random_Forest.sav'\n",
    "pickle.dump(rfr_tuned, open(filename, 'wb'))"
   ]
  },
  {
   "cell_type": "code",
   "execution_count": 149,
   "metadata": {},
   "outputs": [],
   "source": [
    "filename = 'Random_Forest.sav'\n",
    "loaded_model = pickle.load((open(filename, 'rb')))"
   ]
  },
  {
   "cell_type": "code",
   "execution_count": 150,
   "metadata": {
    "scrolled": false
   },
   "outputs": [
    {
     "data": {
      "text/plain": [
       "Pipeline(steps=[('transformer',\n",
       "                 ColumnTransformer(remainder='passthrough',\n",
       "                                   transformers=[('binary_pipe',\n",
       "                                                  Pipeline(steps=[('binary',\n",
       "                                                                   BinaryEncoder())]),\n",
       "                                                  ['Airline', 'Route_1',\n",
       "                                                   'Route_2', 'Route_3',\n",
       "                                                   'Route_4', 'Route_5']),\n",
       "                                                 ('onehot_pipe',\n",
       "                                                  Pipeline(steps=[('onehot',\n",
       "                                                                   OneHotEncoder(drop='first'))]),\n",
       "                                                  ['Source', 'Destination'])])),\n",
       "                ('rfr',\n",
       "                 RandomForestRegressor(max_depth=14, n_estimators=500,\n",
       "                                       random_state=2021))])"
      ]
     },
     "execution_count": 150,
     "metadata": {},
     "output_type": "execute_result"
    }
   ],
   "source": [
    "loaded_model"
   ]
  },
  {
   "cell_type": "markdown",
   "metadata": {},
   "source": [
    "## J. Predict New Data"
   ]
  },
  {
   "cell_type": "code",
   "execution_count": 166,
   "metadata": {},
   "outputs": [
    {
     "data": {
      "text/html": [
       "<div>\n",
       "<style scoped>\n",
       "    .dataframe tbody tr th:only-of-type {\n",
       "        vertical-align: middle;\n",
       "    }\n",
       "\n",
       "    .dataframe tbody tr th {\n",
       "        vertical-align: top;\n",
       "    }\n",
       "\n",
       "    .dataframe thead th {\n",
       "        text-align: right;\n",
       "    }\n",
       "</style>\n",
       "<table border=\"1\" class=\"dataframe\">\n",
       "  <thead>\n",
       "    <tr style=\"text-align: right;\">\n",
       "      <th></th>\n",
       "      <th>Airline</th>\n",
       "      <th>Source</th>\n",
       "      <th>Destination</th>\n",
       "      <th>Total_Stops</th>\n",
       "      <th>Journey_Day</th>\n",
       "      <th>Journey_Month</th>\n",
       "      <th>Dep_Time_Hours</th>\n",
       "      <th>Dep_Time_Minutes</th>\n",
       "      <th>Arrival_Time_Hours</th>\n",
       "      <th>Arrival_Time_Minutes</th>\n",
       "      <th>Duration_Hours</th>\n",
       "      <th>Duration_Minutes</th>\n",
       "      <th>Route_1</th>\n",
       "      <th>Route_2</th>\n",
       "      <th>Route_3</th>\n",
       "      <th>Route_4</th>\n",
       "      <th>Route_5</th>\n",
       "    </tr>\n",
       "  </thead>\n",
       "  <tbody>\n",
       "    <tr>\n",
       "      <th>0</th>\n",
       "      <td>Air Asia</td>\n",
       "      <td>Delhi</td>\n",
       "      <td>Cochin</td>\n",
       "      <td>1</td>\n",
       "      <td>31</td>\n",
       "      <td>5</td>\n",
       "      <td>5</td>\n",
       "      <td>10</td>\n",
       "      <td>12</td>\n",
       "      <td>40</td>\n",
       "      <td>7</td>\n",
       "      <td>30</td>\n",
       "      <td>DEL</td>\n",
       "      <td>NAG</td>\n",
       "      <td>BLR</td>\n",
       "      <td>None</td>\n",
       "      <td>None</td>\n",
       "    </tr>\n",
       "  </tbody>\n",
       "</table>\n",
       "</div>"
      ],
      "text/plain": [
       "    Airline Source Destination  Total_Stops  Journey_Day  Journey_Month  \\\n",
       "0  Air Asia  Delhi      Cochin            1           31              5   \n",
       "\n",
       "   Dep_Time_Hours  Dep_Time_Minutes  Arrival_Time_Hours  Arrival_Time_Minutes  \\\n",
       "0               5                10                  12                    40   \n",
       "\n",
       "   Duration_Hours  Duration_Minutes Route_1 Route_2 Route_3 Route_4 Route_5  \n",
       "0               7                30     DEL     NAG     BLR    None    None  "
      ]
     },
     "execution_count": 166,
     "metadata": {},
     "output_type": "execute_result"
    }
   ],
   "source": [
    "df_predict = pd.DataFrame({\n",
    "    'Airline' : 'Air Asia', \n",
    "    'Source' : 'Delhi', \n",
    "    'Destination' : 'Cochin', \n",
    "    'Total_Stops' : [1], \n",
    "    'Journey_Day' : [31],\n",
    "    'Journey_Month' : [5], \n",
    "    'Dep_Time_Hours' : [5], \n",
    "    'Dep_Time_Minutes' : [10],\n",
    "    'Arrival_Time_Hours' : [12], \n",
    "    'Arrival_Time_Minutes' : [40], \n",
    "    'Duration_Hours' : [7],\n",
    "    'Duration_Minutes' : [30], \n",
    "    'Route_1' : 'DEL', \n",
    "    'Route_2' : 'NAG', \n",
    "    'Route_3' : 'BLR', \n",
    "    'Route_4' : 'None',\n",
    "    'Route_5' : 'None'\n",
    "})\n",
    "\n",
    "df_predict"
   ]
  },
  {
   "cell_type": "code",
   "execution_count": 171,
   "metadata": {},
   "outputs": [
    {
     "name": "stdout",
     "output_type": "stream",
     "text": [
      "YOUR TICKET PRICE : 6469\n"
     ]
    }
   ],
   "source": [
    "prediction = loaded_model.predict(df_predict)[0]\n",
    "print('YOUR TICKET PRICE :', round(prediction))"
   ]
  }
 ],
 "metadata": {
  "kernelspec": {
   "display_name": "Python 3",
   "language": "python",
   "name": "python3"
  },
  "language_info": {
   "codemirror_mode": {
    "name": "ipython",
    "version": 3
   },
   "file_extension": ".py",
   "mimetype": "text/x-python",
   "name": "python",
   "nbconvert_exporter": "python",
   "pygments_lexer": "ipython3",
   "version": "3.8.3"
  }
 },
 "nbformat": 4,
 "nbformat_minor": 4
}
